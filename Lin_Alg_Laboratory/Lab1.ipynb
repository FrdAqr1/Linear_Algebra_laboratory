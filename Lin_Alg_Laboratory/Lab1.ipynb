{
 "cells": [
  {
   "cell_type": "code",
   "execution_count": 1,
   "metadata": {},
   "outputs": [
    {
     "name": "stdout",
     "output_type": "stream",
     "text": [
      "Charmander at levels 15\n",
      "Pidgey at levels 11\n",
      "Sandshrew at levels 18\n",
      "Rattata at levels 5\n",
      "Abra at levels 14\n"
     ]
    }
   ],
   "source": [
    "party = ['Charmander', 'Pidgey', 'Sandshrew', 'Rattata', 'Abra']\n",
    "levels = [15,11,18,5,14]\n",
    "print(party[0], 'at levels', levels[0])\n",
    "print(party[1], 'at levels', levels[1])\n",
    "print(party[2], 'at levels', levels[2])\n",
    "print(party[3], 'at levels', levels[3])\n",
    "print(party[4], 'at levels', levels[4])"
   ]
  },
  {
   "cell_type": "code",
   "execution_count": 2,
   "metadata": {},
   "outputs": [
    {
     "name": "stdout",
     "output_type": "stream",
     "text": [
      "Sorted list of low level pokemon: [[('Dialga', 2), ('Regigigas', 3), ('Onix', 10)]]\n",
      "list of low level pokemon (i.e names) : ['Dialga', 'Regigigas', 'Onix']\n"
     ]
    }
   ],
   "source": [
    "reserves = [    ('Onix',10),\n",
    "    ('Slowpoke',18),\n",
    "    ('Dialga', 2),\n",
    "    ('Magikarp', 32),\n",
    "    ('Feebas', 22),\n",
    "    ('Swablu', 19),\n",
    "    ('Regigigas', 3),\n",
    "    ('Unown', 50)\n",
    "]\n",
    "reserves.sort(key = lambda x:x[1])\n",
    "lst = []\n",
    "for i in range(1):\n",
    "   lst.append((reserves[i:i+3]))\n",
    "print('Sorted list of low level pokemon:',lst) \n",
    "res = [lst[0]for lst in reserves]\n",
    "#for i in range(1):\n",
    " #  lst.append((reserves[i:i+3]))\n",
    "print (\"list of low level pokemon (i.e names) : \" + str(res[i:i+3]))\n",
    "        "
   ]
  },
  {
   "cell_type": "code",
   "execution_count": 4,
   "metadata": {},
   "outputs": [],
   "source": [
    "party = ['Charmander', 'Pidgey', 'Sandshrew', 'Rattata', 'Abra']\n",
    "reserves = [    ('Onix',10),\n",
    "    ('Slowpoke',18),\n",
    "    ('Dialga', 2),\n",
    "    ('Magikarp', 32),\n",
    "    ('Feebas', 22),\n",
    "    ('Swablu', 19),\n",
    "    ('Regigigas', 3),\n",
    "    ('Unown', 50)\n",
    "]\n",
    "reserves.sort(key = lambda x:x[1])\n",
    "def create_party(party, candidates):\n",
    "    suggested_parties = []\n",
    "    for chosen_pokemon in reserves:\n",
    "        new_list = party.append()\n",
    "        new_list.append(chosen_pokemon[:1])\n",
    "        suggested_parties.append(new_list)\n",
    "        return suggested_parties\n",
    "    print(create_party(party, reserves))"
   ]
  }
 ],
 "metadata": {
  "kernelspec": {
   "display_name": "Python 3",
   "language": "python",
   "name": "python3"
  },
  "language_info": {
   "codemirror_mode": {
    "name": "ipython",
    "version": 3
   },
   "file_extension": ".py",
   "mimetype": "text/x-python",
   "name": "python",
   "nbconvert_exporter": "python",
   "pygments_lexer": "ipython3",
   "version": "3.8.3"
  }
 },
 "nbformat": 4,
 "nbformat_minor": 4
}
