{
  "nbformat": 4,
  "nbformat_minor": 0,
  "metadata": {
    "kernelspec": {
      "display_name": "Python 3",
      "language": "python",
      "name": "python3"
    },
    "language_info": {
      "codemirror_mode": {
        "name": "ipython",
        "version": 3
      },
      "file_extension": ".py",
      "mimetype": "text/x-python",
      "name": "python",
      "nbconvert_exporter": "python",
      "pygments_lexer": "ipython3",
      "version": "3.8.3"
    },
    "colab": {
      "name": "LinAlg Lab _6_Final.ipynb",
      "provenance": [],
      "collapsed_sections": [
        "Y4jozWa-xzdk",
        "3ltH64Qpxzdl",
        "bLdhfoPFxzdq",
        "M8qKQPnrxzdu",
        "2L-tq64gxzdv",
        "3DSIaaTixzd0",
        "E0RFa-mHxzd3",
        "_uaVV_UKxzd6",
        "JcRhEgucxzd-",
        "abkhyq-9xzeC",
        "CuSD9KMBxzeF",
        "R-9YCYzvxzeT",
        "tTQ6MTlaxzeX",
        "DmLJjj6oxzeb"
      ]
    }
  },
  "cells": [
    {
      "cell_type": "markdown",
      "metadata": {
        "id": "DQcLmj1Yxzcn"
      },
      "source": [
        "# **Linear Algebra for CpE**\n",
        "\n",
        "# **Laboratory 6: Matrices**\n",
        "\n",
        "**Coded and submitted by**:\n",
        "\n",
        "***Aquiro, Freddielyn E.***\n",
        "\n",
        "58010"
      ]
    },
    {
      "cell_type": "markdown",
      "metadata": {
        "id": "hQx_tTbFxzcz"
      },
      "source": [
        "Now that you have a fundamental knowledge about vector representations, we'll try to look into greater dimensions."
      ]
    },
    {
      "cell_type": "markdown",
      "metadata": {
        "id": "8fs7DzZsxzc2"
      },
      "source": [
        "### Objectives\n",
        "At the end of this activity you will be able to:\n",
        "1. Be familiar with matrices and their relation to linear equations.\n",
        "2. Perform basic matrix operations.\n",
        "3. Program and translate matrix equations and operations using Python."
      ]
    },
    {
      "cell_type": "markdown",
      "metadata": {
        "id": "Y5FgSVB4xzc5"
      },
      "source": [
        "# Discussion"
      ]
    },
    {
      "cell_type": "code",
      "metadata": {
        "id": "xCYOpAIxxzc7"
      },
      "source": [
        "import numpy as np\n",
        "import matplotlib.pyplot as plt\n",
        "import scipy.linalg as la\n",
        "%matplotlib inline"
      ],
      "execution_count": 26,
      "outputs": []
    },
    {
      "cell_type": "markdown",
      "metadata": {
        "id": "p4_xLc9AxzdC"
      },
      "source": [
        "### Matrices"
      ]
    },
    {
      "cell_type": "markdown",
      "metadata": {
        "id": "fajDcjDsxzdD"
      },
      "source": [
        "The notation and use of matrices is probably one of the fundamentals of modern computing. Matrices are also handy representations of complex equations or multiple inter-related equations from 2-dimensional equations to even hundreds and thousands of them."
      ]
    },
    {
      "cell_type": "markdown",
      "metadata": {
        "id": "y0lXg4kSxzdE"
      },
      "source": [
        "Let's say for example you have $A$ and $B$ as system of equation."
      ]
    },
    {
      "cell_type": "markdown",
      "metadata": {
        "id": "xnplPn94xzdF"
      },
      "source": [
        "$$\n",
        "A = \\left\\{\n",
        "    \\begin{array}\\\\\n",
        "        x + y \\\\ \n",
        "        4x - 10y\n",
        "    \\end{array}\n",
        "\\right. \\\\\n",
        "B = \\left\\{\n",
        "    \\begin{array}\\\\\n",
        "        x+y+z \\\\ \n",
        "        3x -2y -z \\\\\n",
        "        -x + 4y +2z\n",
        "    \\end{array}\n",
        "\\right. $$"
      ]
    },
    {
      "cell_type": "markdown",
      "metadata": {
        "id": "p48V0EHcxzdG"
      },
      "source": [
        "We could see that $A$ is a system of 2 equations with 2 parameters. While $B$ is a system of 3 equations with 3 parameters. We can represent them as matrices as:"
      ]
    },
    {
      "cell_type": "markdown",
      "metadata": {
        "id": "HIxJqlbsxzdH"
      },
      "source": [
        "$$\n",
        "A=\\begin{bmatrix} 1 & 1 \\\\ 4 & {-10}\\end{bmatrix} \\\\\n",
        "B=\\begin{bmatrix} 1 & 1 & 1 \\\\ 3 & -2 & -1 \\\\ -1 & 4 & 2\\end{bmatrix}\n",
        "$$"
      ]
    },
    {
      "cell_type": "markdown",
      "metadata": {
        "id": "Ped_gUGgxzdI"
      },
      "source": [
        "So assuming that you already discussed the fundamental representation of matrices, their types, and operations. We'll proceed in doing them in here in Python."
      ]
    },
    {
      "cell_type": "markdown",
      "metadata": {
        "id": "PqdKw3umxzdK"
      },
      "source": [
        "### Declaring Matrices"
      ]
    },
    {
      "cell_type": "markdown",
      "metadata": {
        "id": "EZGDJX1AxzdL"
      },
      "source": [
        "Just like our previous laboratory activity, we'll represent system of linear equations as a matrix. The entities or numbers in matrices are called the elements of a matrix. These elements are arranged and ordered in rows and columns which form the list/array-like structure of matrices. And just like arrays, these elements are indexed according to their position with respect to their rows and columns. This can be reprsented just like the equation below. Whereas $A$ is a matrix consisting of elements denoted by $a_{i,j}$. Denoted by $i$ is the number of rows in the matrix while $j$ stands for the number of columns.<br>\n",
        "Do note that the $size$ of a matrix is $i\\times j$."
      ]
    },
    {
      "cell_type": "markdown",
      "metadata": {
        "id": "O8qMVa85xzdM"
      },
      "source": [
        "$$A=\\begin{bmatrix}\n",
        "a_{(0,0)}&a_{(0,1)}&\\dots&a_{(0,j-1)}\\\\\n",
        "a_{(1,0)}&a_{(1,1)}&\\dots&a_{(1,j-1)}\\\\\n",
        "\\vdots&\\vdots&\\ddots&\\vdots&\\\\\n",
        "a_{(i-1,0)}&a_{(i-1,1)}&\\dots&a_{(i-1,j-1)}\n",
        "\\end{bmatrix}\n",
        "$$"
      ]
    },
    {
      "cell_type": "markdown",
      "metadata": {
        "id": "TO699LrIxzdN"
      },
      "source": [
        "We already gone over some of the types of matrices as vectors but we'll further discuss them in this laboratory activity. Since you already know how to describe vectors using <b>shape</b>, <b>dimensions</b> and <b>size</b> attributes, we'll use them to analyze these matrices."
      ]
    },
    {
      "cell_type": "code",
      "metadata": {
        "id": "itR_N5xQxzdO"
      },
      "source": [
        "## Since we'll keep on describing matrices. Let's make a function.\n",
        "def describe_mat(matrix):\n",
        "    print(f'Matrix:\\n{matrix}\\n\\nShape:\\t{matrix.shape}\\nRank:\\t{matrix.ndim}\\n')"
      ],
      "execution_count": null,
      "outputs": []
    },
    {
      "cell_type": "code",
      "metadata": {
        "id": "fnX02wJWxzdU",
        "outputId": "47a1c2fa-dabd-4f30-c5e3-89314af77de9"
      },
      "source": [
        "## Declaring a 2 x 2 matrix\n",
        "A = np.array([\n",
        "    [1, 2],\n",
        "    [3, 1]\n",
        "])\n",
        "describe_mat(A)"
      ],
      "execution_count": null,
      "outputs": [
        {
          "output_type": "stream",
          "text": [
            "Matrix:\n",
            "[[1 2]\n",
            " [3 1]]\n",
            "\n",
            "Shape:\t(2, 2)\n",
            "Rank:\t2\n",
            "\n"
          ],
          "name": "stdout"
        }
      ]
    },
    {
      "cell_type": "code",
      "metadata": {
        "id": "GyAygbc7xzda",
        "outputId": "ab7e24a7-3019-4b12-af86-c5cedf328cdc"
      },
      "source": [
        "G = np.array([\n",
        "    [1,1],\n",
        "    [2,2]\n",
        "])\n",
        "describe_mat(G)"
      ],
      "execution_count": null,
      "outputs": [
        {
          "output_type": "stream",
          "text": [
            "Matrix:\n",
            "[[1 1]\n",
            " [2 2]]\n",
            "\n",
            "Shape:\t(2, 2)\n",
            "Rank:\t2\n",
            "\n"
          ],
          "name": "stdout"
        }
      ]
    },
    {
      "cell_type": "code",
      "metadata": {
        "id": "57DhjX45xzdd",
        "outputId": "41805d47-5f3d-40b9-e2a2-5a20cd6ab592"
      },
      "source": [
        "## Declaring a 3 x 2 matrix\n",
        "B = np.array([\n",
        "    [8, 2],\n",
        "    [5, 4],\n",
        "    [1, 1]\n",
        "])\n",
        "describe_mat(B)"
      ],
      "execution_count": null,
      "outputs": [
        {
          "output_type": "stream",
          "text": [
            "Matrix:\n",
            "[[8 2]\n",
            " [5 4]\n",
            " [1 1]]\n",
            "\n",
            "Shape:\t(3, 2)\n",
            "Rank:\t2\n",
            "\n"
          ],
          "name": "stdout"
        }
      ]
    },
    {
      "cell_type": "code",
      "metadata": {
        "id": "Ef81P87mxzdh",
        "outputId": "15bc1b04-b1ca-4bef-fa2d-17bf233ddcc7"
      },
      "source": [
        "H = np.array([1,2,3,4,5])\n",
        "describe_mat(H)"
      ],
      "execution_count": null,
      "outputs": [
        {
          "output_type": "stream",
          "text": [
            "Matrix:\n",
            "[1 2 3 4 5]\n",
            "\n",
            "Shape:\t(5,)\n",
            "Rank:\t1\n",
            "\n"
          ],
          "name": "stdout"
        }
      ]
    },
    {
      "cell_type": "markdown",
      "metadata": {
        "id": "CkuPcjBGxzdk"
      },
      "source": [
        "## Categorizing Matrices"
      ]
    },
    {
      "cell_type": "markdown",
      "metadata": {
        "id": "-YsT-G4Cxzdk"
      },
      "source": [
        "There are several ways of classifying matrices. Once could be according to their <b>shape</b> and another is according to their <b>element values</b>. We'll try to go through them."
      ]
    },
    {
      "cell_type": "markdown",
      "metadata": {
        "id": "Y4jozWa-xzdk"
      },
      "source": [
        "### According to shape"
      ]
    },
    {
      "cell_type": "markdown",
      "metadata": {
        "id": "3ltH64Qpxzdl"
      },
      "source": [
        "#### Row and Column Matrices"
      ]
    },
    {
      "cell_type": "markdown",
      "metadata": {
        "id": "aCVvWyhJxzdl"
      },
      "source": [
        "Row and column matrices are common in vector and matrix computations. They can also represent row and column spaces of a bigger vector space. Row and column matrices are represented by a single column or single row. So with that being, the shape of row matrices would be $1 \\times j$ and column matrices would be $i \\times 1$."
      ]
    },
    {
      "cell_type": "code",
      "metadata": {
        "id": "YBOnTm7Rxzdm",
        "outputId": "2a308df8-381a-456a-de32-127aed9a6d9e"
      },
      "source": [
        "## Declaring a Row Matrix\n",
        "\n",
        "row_mat_1D = np.array([\n",
        "    1, 3, 2\n",
        "]) ## this is a 1-D Matrix with a shape of (3,), it's not really considered as a row matrix.\n",
        "row_mat_2D = np.array([\n",
        "    [1,2,3]\n",
        "]) ## this is a 2-D Matrix with a shape of (1,3)\n",
        "describe_mat(row_mat_1D)\n",
        "describe_mat(row_mat_2D)"
      ],
      "execution_count": null,
      "outputs": [
        {
          "output_type": "stream",
          "text": [
            "Matrix:\n",
            "[1 3 2]\n",
            "\n",
            "Shape:\t(3,)\n",
            "Rank:\t1\n",
            "\n",
            "Matrix:\n",
            "[[1 2 3]]\n",
            "\n",
            "Shape:\t(1, 3)\n",
            "Rank:\t2\n",
            "\n"
          ],
          "name": "stdout"
        }
      ]
    },
    {
      "cell_type": "code",
      "metadata": {
        "id": "35l2ujZFxzdo",
        "outputId": "153a6a3c-3ccd-4c73-a24a-8c992f621a6d"
      },
      "source": [
        "## Declaring a Column Matrix\n",
        "\n",
        "col_mat = np.array([\n",
        "    [1],\n",
        "    [2],\n",
        "    [5]\n",
        "]) ## this is a 2-D Matrix with a shape of (3,1)\n",
        "describe_mat(col_mat)"
      ],
      "execution_count": null,
      "outputs": [
        {
          "output_type": "stream",
          "text": [
            "Matrix:\n",
            "[[1]\n",
            " [2]\n",
            " [5]]\n",
            "\n",
            "Shape:\t(3, 1)\n",
            "Rank:\t2\n",
            "\n"
          ],
          "name": "stdout"
        }
      ]
    },
    {
      "cell_type": "markdown",
      "metadata": {
        "id": "bLdhfoPFxzdq"
      },
      "source": [
        "#### Square Matrices"
      ]
    },
    {
      "cell_type": "markdown",
      "metadata": {
        "id": "aTS42YFuxzdq"
      },
      "source": [
        "Square matrices are matrices that have the same row and column sizes. We could say a matrix is square if $i = j$. We can tweak our matrix descriptor function to determine square matrices."
      ]
    },
    {
      "cell_type": "code",
      "metadata": {
        "id": "g-k0UbWExzdq"
      },
      "source": [
        "def describe_mat(matrix):\n",
        "    is_square = True if matrix.shape[0] == matrix.shape[1] else False \n",
        "    print(f'Matrix:\\n{matrix}\\n\\nShape:\\t{matrix.shape}\\nRank:\\t{matrix.ndim}\\nIs Square: {is_square}\\n')"
      ],
      "execution_count": null,
      "outputs": []
    },
    {
      "cell_type": "code",
      "metadata": {
        "id": "27v4Oi8Ixzds",
        "outputId": "2a5adf89-4c6f-40f8-b12d-b58e805efb3e"
      },
      "source": [
        "square_mat = np.array([\n",
        "    [1,2,5],\n",
        "    [3,3,8],\n",
        "    [6,1,2]\n",
        "])\n",
        "\n",
        "non_square_mat = np.array([\n",
        "    [1,2,5],\n",
        "    [3,3,8]\n",
        "])\n",
        "describe_mat(square_mat)\n",
        "describe_mat(non_square_mat)"
      ],
      "execution_count": null,
      "outputs": [
        {
          "output_type": "stream",
          "text": [
            "Matrix:\n",
            "[[1 2 5]\n",
            " [3 3 8]\n",
            " [6 1 2]]\n",
            "\n",
            "Shape:\t(3, 3)\n",
            "Rank:\t2\n",
            "Is Square: True\n",
            "\n",
            "Matrix:\n",
            "[[1 2 5]\n",
            " [3 3 8]]\n",
            "\n",
            "Shape:\t(2, 3)\n",
            "Rank:\t2\n",
            "Is Square: False\n",
            "\n"
          ],
          "name": "stdout"
        }
      ]
    },
    {
      "cell_type": "markdown",
      "metadata": {
        "id": "M8qKQPnrxzdu"
      },
      "source": [
        "### According to element values"
      ]
    },
    {
      "cell_type": "markdown",
      "metadata": {
        "id": "2L-tq64gxzdv"
      },
      "source": [
        "#### Null Matrix"
      ]
    },
    {
      "cell_type": "markdown",
      "metadata": {
        "id": "rjHbOlXqxzdv"
      },
      "source": [
        "A Null Matrix is a matrix that has no elements. It is always a subspace of any vector or matrix."
      ]
    },
    {
      "cell_type": "code",
      "metadata": {
        "id": "2HBpObxqxzdw"
      },
      "source": [
        "def describe_mat(matrix):\n",
        "    if matrix.size > 0:\n",
        "        is_square = True if matrix.shape[0] == matrix.shape[1] else False \n",
        "        print(f'Matrix:\\n{matrix}\\n\\nShape:\\t{matrix.shape}\\nRank:\\t{matrix.ndim}\\nIs Square: {is_square}\\n')\n",
        "    else:\n",
        "        print('Matrix is Null')"
      ],
      "execution_count": null,
      "outputs": []
    },
    {
      "cell_type": "code",
      "metadata": {
        "id": "RjpbdrS9xzdy",
        "outputId": "3eec8e11-e47b-45d5-d0e6-54e86d917c1d"
      },
      "source": [
        "null_mat = np.array([])\n",
        "describe_mat(null_mat)"
      ],
      "execution_count": null,
      "outputs": [
        {
          "output_type": "stream",
          "text": [
            "Matrix is Null\n"
          ],
          "name": "stdout"
        }
      ]
    },
    {
      "cell_type": "markdown",
      "metadata": {
        "id": "3DSIaaTixzd0"
      },
      "source": [
        "#### Zero Matrix"
      ]
    },
    {
      "cell_type": "markdown",
      "metadata": {
        "id": "J1N7HyPGxzd0"
      },
      "source": [
        "A zero matrix can be any rectangular matrix but with all elements having a value of 0."
      ]
    },
    {
      "cell_type": "code",
      "metadata": {
        "id": "jBRuTcTixzd0",
        "outputId": "a5db4265-1530-4821-9bb9-9628d60b2e03"
      },
      "source": [
        "zero_mat_row = np.zeros((1,2))\n",
        "zero_mat_sqr = np.zeros((2,2))\n",
        "zero_mat_rct = np.zeros((3,2))\n",
        "\n",
        "print(f'Zero Row Matrix: \\n{zero_mat_row}')\n",
        "print(f'Zero Square Matrix: \\n{zero_mat_sqr}')\n",
        "print(f'Zero Rectangular Matrix: \\n{zero_mat_rct}')"
      ],
      "execution_count": null,
      "outputs": [
        {
          "output_type": "stream",
          "text": [
            "Zero Row Matrix: \n",
            "[[0. 0.]]\n",
            "Zero Square Matrix: \n",
            "[[0. 0.]\n",
            " [0. 0.]]\n",
            "Zero Rectangular Matrix: \n",
            "[[0. 0.]\n",
            " [0. 0.]\n",
            " [0. 0.]]\n"
          ],
          "name": "stdout"
        }
      ]
    },
    {
      "cell_type": "markdown",
      "metadata": {
        "id": "E0RFa-mHxzd3"
      },
      "source": [
        "#### Ones Matrix"
      ]
    },
    {
      "cell_type": "markdown",
      "metadata": {
        "id": "54mAwg93xzd4"
      },
      "source": [
        "A ones matrix, just like the zero matrix, can be any rectangular matrix but all of its elements are 1s instead of 0s."
      ]
    },
    {
      "cell_type": "code",
      "metadata": {
        "id": "ocAtHLd8xzd4",
        "outputId": "8a9819da-e124-4efa-b935-a35273e97e1b"
      },
      "source": [
        "ones_mat_row = np.ones((1,2))\n",
        "ones_mat_sqr = np.ones((2,2))\n",
        "ones_mat_rct = np.ones((3,2))\n",
        "\n",
        "print(f'Ones Row Matrix: \\n{ones_mat_row}')\n",
        "print(f'Ones Square Matrix: \\n{ones_mat_sqr}')\n",
        "print(f'Ones Rectangular Matrix: \\n{ones_mat_rct}')"
      ],
      "execution_count": null,
      "outputs": [
        {
          "output_type": "stream",
          "text": [
            "Ones Row Matrix: \n",
            "[[1. 1.]]\n",
            "Ones Square Matrix: \n",
            "[[1. 1.]\n",
            " [1. 1.]]\n",
            "Ones Rectangular Matrix: \n",
            "[[1. 1.]\n",
            " [1. 1.]\n",
            " [1. 1.]]\n"
          ],
          "name": "stdout"
        }
      ]
    },
    {
      "cell_type": "markdown",
      "metadata": {
        "id": "_uaVV_UKxzd6"
      },
      "source": [
        "#### Diagonal Matrix"
      ]
    },
    {
      "cell_type": "markdown",
      "metadata": {
        "id": "PDS35LCKxzd6"
      },
      "source": [
        "A diagonal matrix is a square matrix that has values only at the diagonal of the matrix. "
      ]
    },
    {
      "cell_type": "code",
      "metadata": {
        "id": "BFTAF_s9xzd7",
        "outputId": "1106df34-afff-461e-9651-8e75b2844cab"
      },
      "source": [
        "np.array([\n",
        "    [2,0,0],\n",
        "    [0,3,0],\n",
        "    [0,0,5]\n",
        "])\n",
        "# a[1,1], a[2,2], a[3,3], ... a[n-1,n-1]"
      ],
      "execution_count": null,
      "outputs": [
        {
          "output_type": "execute_result",
          "data": {
            "text/plain": [
              "array([[2, 0, 0],\n",
              "       [0, 3, 0],\n",
              "       [0, 0, 5]])"
            ]
          },
          "metadata": {
            "tags": []
          },
          "execution_count": 24
        }
      ]
    },
    {
      "cell_type": "code",
      "metadata": {
        "id": "wgedM_kZxzd8",
        "outputId": "bca269e9-49cd-4bde-aac8-550dedd6ffa4"
      },
      "source": [
        "d = np.diag([2,3,5,7])\n",
        "np.diag(d).shape == d.shape[0] == d.shape[1]\n"
      ],
      "execution_count": null,
      "outputs": [
        {
          "output_type": "execute_result",
          "data": {
            "text/plain": [
              "array([2, 3, 5, 7])"
            ]
          },
          "metadata": {
            "tags": []
          },
          "execution_count": 32
        }
      ]
    },
    {
      "cell_type": "markdown",
      "metadata": {
        "id": "JcRhEgucxzd-"
      },
      "source": [
        "#### Identity Matrix"
      ]
    },
    {
      "cell_type": "markdown",
      "metadata": {
        "id": "56_m7gz_xzd_"
      },
      "source": [
        "An identity matrix is a special diagonal matrix in which the values at the diagonal are ones."
      ]
    },
    {
      "cell_type": "code",
      "metadata": {
        "id": "wb4RyWN2xzd_",
        "outputId": "7d824332-4d55-4941-d1ae-38651815471b"
      },
      "source": [
        "np.eye(5)"
      ],
      "execution_count": null,
      "outputs": [
        {
          "output_type": "execute_result",
          "data": {
            "text/plain": [
              "array([[1., 0., 0., 0., 0.],\n",
              "       [0., 1., 0., 0., 0.],\n",
              "       [0., 0., 1., 0., 0.],\n",
              "       [0., 0., 0., 1., 0.],\n",
              "       [0., 0., 0., 0., 1.]])"
            ]
          },
          "metadata": {
            "tags": []
          },
          "execution_count": 34
        }
      ]
    },
    {
      "cell_type": "code",
      "metadata": {
        "id": "ZAxWuweQxzeB",
        "outputId": "d9c1f61d-8d23-4baf-a92f-927035e8117a"
      },
      "source": [
        "np.identity(5)"
      ],
      "execution_count": null,
      "outputs": [
        {
          "output_type": "execute_result",
          "data": {
            "text/plain": [
              "array([[1., 0., 0., 0., 0.],\n",
              "       [0., 1., 0., 0., 0.],\n",
              "       [0., 0., 1., 0., 0.],\n",
              "       [0., 0., 0., 1., 0.],\n",
              "       [0., 0., 0., 0., 1.]])"
            ]
          },
          "metadata": {
            "tags": []
          },
          "execution_count": 35
        }
      ]
    },
    {
      "cell_type": "markdown",
      "metadata": {
        "id": "abkhyq-9xzeC"
      },
      "source": [
        "#### Upper Triangular Matrix"
      ]
    },
    {
      "cell_type": "markdown",
      "metadata": {
        "id": "N_ErHc2IxzeD"
      },
      "source": [
        "An upper triangular matrix is a matrix that has no values below the diagonal. "
      ]
    },
    {
      "cell_type": "code",
      "metadata": {
        "id": "xrfs8k58xzeD",
        "outputId": "a7465c68-1db2-4b97-ccd3-c09da0b33ce4"
      },
      "source": [
        "np.array([\n",
        "    [1,2,3],\n",
        "    [0,3,1],\n",
        "    [0,0,5]\n",
        "])"
      ],
      "execution_count": null,
      "outputs": [
        {
          "output_type": "execute_result",
          "data": {
            "text/plain": [
              "array([[1, 2, 3],\n",
              "       [0, 3, 1],\n",
              "       [0, 0, 5]])"
            ]
          },
          "metadata": {
            "tags": []
          },
          "execution_count": 36
        }
      ]
    },
    {
      "cell_type": "markdown",
      "metadata": {
        "id": "CuSD9KMBxzeF"
      },
      "source": [
        "#### Lower Triangular Matrix"
      ]
    },
    {
      "cell_type": "markdown",
      "metadata": {
        "id": "afR9fNyCxzeF"
      },
      "source": [
        "A lower triangular matrix is a matrix that has no values above the diagonal."
      ]
    },
    {
      "cell_type": "code",
      "metadata": {
        "id": "rMZ3EGKWxzeG",
        "outputId": "7e77e0ab-d488-4e7e-ae5d-3c86ba8bb3dc"
      },
      "source": [
        "np.array([\n",
        "    [1,0,0],\n",
        "    [5,3,0],\n",
        "    [7,8,5]\n",
        "])"
      ],
      "execution_count": null,
      "outputs": [
        {
          "output_type": "execute_result",
          "data": {
            "text/plain": [
              "array([[1, 0, 0],\n",
              "       [5, 3, 0],\n",
              "       [7, 8, 5]])"
            ]
          },
          "metadata": {
            "tags": []
          },
          "execution_count": 37
        }
      ]
    },
    {
      "cell_type": "markdown",
      "metadata": {
        "id": "P6WpEeTexzeI"
      },
      "source": [
        "## Practice"
      ]
    },
    {
      "cell_type": "markdown",
      "metadata": {
        "id": "MdmBsoQAxzeI"
      },
      "source": [
        "1. Given the linear combination below, try to create a corresponding matrix representing it."
      ]
    },
    {
      "cell_type": "markdown",
      "metadata": {
        "id": "n9Vbw4aCxzeJ"
      },
      "source": [
        "$$\\theta = 5x + 3y - z$$"
      ]
    },
    {
      "cell_type": "code",
      "metadata": {
        "id": "_-iSkuBuxzeJ",
        "outputId": "dd330610-b3a9-4c2c-deb7-a15b3955b474"
      },
      "source": [
        "theta = np.array([\n",
        "              [5,3,-1],\n",
        "])\n",
        "describe_mat(theta)"
      ],
      "execution_count": null,
      "outputs": [
        {
          "output_type": "stream",
          "text": [
            "Matrix:\n",
            "[[ 5  3 -1]]\n",
            "\n",
            "Shape:\t(1, 3)\n",
            "Rank:\t2\n",
            "Is Square: False\n",
            "\n"
          ],
          "name": "stdout"
        }
      ]
    },
    {
      "cell_type": "markdown",
      "metadata": {
        "id": "93Za03yvxzeL"
      },
      "source": [
        "2. Given the system of linear combinations below, try to encode it as a matrix. Also describe the matrix."
      ]
    },
    {
      "cell_type": "markdown",
      "metadata": {
        "id": "AaQPzBFcxzeL"
      },
      "source": [
        "$$\n",
        "A = \\left\\{\\begin{array}\n",
        "5x_1 + 2x_2 +x_3\\\\\n",
        "4x_2 - x_3\\\\\n",
        "10x_3\n",
        "\\end{array}\\right.\n",
        "$$"
      ]
    },
    {
      "cell_type": "code",
      "metadata": {
        "id": "u1JdI7MixzeL",
        "outputId": "99689a18-007c-40bd-a5f9-2b134ef60d23"
      },
      "source": [
        "number2_mat = np.array([\n",
        "             [1,2,1],\n",
        "             [0,4,-1],\n",
        "             [0,0,10]\n",
        "])\n",
        "describe_mat(number2_mat)"
      ],
      "execution_count": null,
      "outputs": [
        {
          "output_type": "stream",
          "text": [
            "Matrix:\n",
            "[[ 1  2  1]\n",
            " [ 0  4 -1]\n",
            " [ 0  0 10]]\n",
            "\n",
            "Shape:\t(3, 3)\n",
            "Rank:\t2\n",
            "Is Square: True\n",
            "\n"
          ],
          "name": "stdout"
        }
      ]
    },
    {
      "cell_type": "markdown",
      "metadata": {
        "id": "NdoEXiWyxzeN"
      },
      "source": [
        "3. Given the matrix below, express it as a linear combination in a markdown."
      ]
    },
    {
      "cell_type": "code",
      "metadata": {
        "id": "FY2PpRMaxzeN"
      },
      "source": [
        "G = np.array([\n",
        "    [1,7,8],\n",
        "    [2,2,2],\n",
        "    [4,6,7]\n",
        "])\n"
      ],
      "execution_count": null,
      "outputs": []
    },
    {
      "cell_type": "markdown",
      "metadata": {
        "id": "DqOW77O3xzeP"
      },
      "source": [
        "$$G = \n",
        "\\begin{bmatrix}1&7&8\\\\2&2&2\\\\4&6&7\n",
        "\\end{bmatrix}$$"
      ]
    },
    {
      "cell_type": "markdown",
      "metadata": {
        "id": "EPkMVkraxzeQ"
      },
      "source": [
        "$$G=\\left\\{\\begin{array} 1g_1+7g_2+8g_3 \\\\2g_1+2g_2+2g_3\\\\4g_1+6g_2+7g_3\n",
        "\\end{array}\\right.$$"
      ]
    },
    {
      "cell_type": "markdown",
      "metadata": {
        "id": "aLx_JIq-xzeQ"
      },
      "source": [
        "4. Given the matrix below, display the output as a LaTeX makdown also express it as a system of linear combinations."
      ]
    },
    {
      "cell_type": "code",
      "metadata": {
        "id": "ITii4g4bxzeQ",
        "outputId": "96fc8b76-401e-4b34-f800-2b9a75beed25"
      },
      "source": [
        "H = np.tril(G)\n",
        "H"
      ],
      "execution_count": null,
      "outputs": [
        {
          "output_type": "execute_result",
          "data": {
            "text/plain": [
              "array([[1, 0, 0],\n",
              "       [2, 2, 0],\n",
              "       [4, 6, 7]])"
            ]
          },
          "metadata": {
            "tags": []
          },
          "execution_count": 42
        }
      ]
    },
    {
      "cell_type": "markdown",
      "metadata": {
        "id": "mrYlTpssxzeS"
      },
      "source": [
        "$$\n",
        "H = \\left\\{\\begin{array}\n",
        "1x_1\\\\\n",
        "2x_1+ 2y_2\\\\\n",
        "4x_1+ 6y_2 +7z_3\n",
        "\\end{array}\\right.\n",
        "$$"
      ]
    },
    {
      "cell_type": "markdown",
      "metadata": {
        "id": "6zYV_sl7xzeS"
      },
      "source": [
        "$$\\begin{equation*}\n",
        "H = \n",
        "\\begin{bmatrix}\n",
        "1 & 0 & 0 \\\\\n",
        "2 & 2 & 0 \\\\\n",
        "4 & 6 & 7\n",
        "\\end{bmatrix}\n",
        "\\end{equation*}$$"
      ]
    },
    {
      "cell_type": "markdown",
      "metadata": {
        "id": "a_Bd0mMSxzeT"
      },
      "source": [
        "# Matrix Algebra"
      ]
    },
    {
      "cell_type": "markdown",
      "metadata": {
        "id": "R-9YCYzvxzeT"
      },
      "source": [
        "### Addition"
      ]
    },
    {
      "cell_type": "code",
      "metadata": {
        "id": "hF4VSRkZxzeT",
        "outputId": "b3d8affe-08f9-4577-fae9-2296bad4e78b"
      },
      "source": [
        "A = np.array([\n",
        "    [1,2],\n",
        "    [2,3],\n",
        "    [4,1]\n",
        "])\n",
        "B = np.array([\n",
        "    [2,2],\n",
        "    [0,0],\n",
        "    [1,1]\n",
        "])\n",
        "A+B"
      ],
      "execution_count": null,
      "outputs": [
        {
          "output_type": "execute_result",
          "data": {
            "text/plain": [
              "array([[3, 4],\n",
              "       [2, 3],\n",
              "       [5, 2]])"
            ]
          },
          "metadata": {
            "tags": []
          },
          "execution_count": 48
        }
      ]
    },
    {
      "cell_type": "code",
      "metadata": {
        "id": "Nau8hniHxzeV",
        "outputId": "6aead799-8c5f-4ada-a82d-41cca07d2a53"
      },
      "source": [
        "2+A ##Broadcasting\n",
        "# 2*np.ones(A.shape)+A"
      ],
      "execution_count": null,
      "outputs": [
        {
          "output_type": "execute_result",
          "data": {
            "text/plain": [
              "array([[3, 4],\n",
              "       [4, 5],\n",
              "       [6, 3]])"
            ]
          },
          "metadata": {
            "tags": []
          },
          "execution_count": 54
        }
      ]
    },
    {
      "cell_type": "markdown",
      "metadata": {
        "id": "tTQ6MTlaxzeX"
      },
      "source": [
        "### Subtraction"
      ]
    },
    {
      "cell_type": "code",
      "metadata": {
        "collapsed": true,
        "jupyter": {
          "outputs_hidden": true
        },
        "id": "GK3hIdBIxzeX",
        "outputId": "e2e5854c-1535-4bba-f31a-c999c0f2dafc"
      },
      "source": [
        "A-B"
      ],
      "execution_count": null,
      "outputs": [
        {
          "output_type": "execute_result",
          "data": {
            "text/plain": [
              "array([[-1,  0],\n",
              "       [ 2,  3],\n",
              "       [ 3,  0]])"
            ]
          },
          "metadata": {
            "tags": []
          },
          "execution_count": 49
        }
      ]
    },
    {
      "cell_type": "code",
      "metadata": {
        "id": "tHP1gLHsxzea",
        "outputId": "62e83cf8-cf82-4496-adb8-f496a92af487"
      },
      "source": [
        "3-B == 3*np.ones(B.shape)-B"
      ],
      "execution_count": null,
      "outputs": [
        {
          "output_type": "execute_result",
          "data": {
            "text/plain": [
              "array([[ True,  True],\n",
              "       [ True,  True],\n",
              "       [ True,  True]])"
            ]
          },
          "metadata": {
            "tags": []
          },
          "execution_count": 59
        }
      ]
    },
    {
      "cell_type": "markdown",
      "metadata": {
        "id": "DmLJjj6oxzeb"
      },
      "source": [
        "### Element-wise Multiplication"
      ]
    },
    {
      "cell_type": "code",
      "metadata": {
        "id": "QM38oY0kxzec",
        "outputId": "b26b0532-5adc-4adc-dada-da5f2a76c0b7"
      },
      "source": [
        "A*B\n",
        "np.multiply(A,B)"
      ],
      "execution_count": null,
      "outputs": [
        {
          "output_type": "execute_result",
          "data": {
            "text/plain": [
              "array([[2, 4],\n",
              "       [0, 0],\n",
              "       [4, 1]])"
            ]
          },
          "metadata": {
            "tags": []
          },
          "execution_count": 67
        }
      ]
    },
    {
      "cell_type": "code",
      "metadata": {
        "id": "-tP5bTfBxzed",
        "outputId": "f5464f01-8d8a-4263-c1f4-4bc2833848c2"
      },
      "source": [
        "2*A"
      ],
      "execution_count": null,
      "outputs": [
        {
          "output_type": "execute_result",
          "data": {
            "text/plain": [
              "array([[2, 4],\n",
              "       [4, 6],\n",
              "       [8, 2]])"
            ]
          },
          "metadata": {
            "tags": []
          },
          "execution_count": 60
        }
      ]
    },
    {
      "cell_type": "code",
      "metadata": {
        "id": "F0GdiXiKxzef",
        "outputId": "57a47c7d-20bb-4a8e-ab28-e318c63ce29e"
      },
      "source": [
        "alpha=10**-10\n",
        "A/(alpha+B)"
      ],
      "execution_count": null,
      "outputs": [
        {
          "output_type": "execute_result",
          "data": {
            "text/plain": [
              "array([[5.e-01, 1.e+00],\n",
              "       [2.e+10, 3.e+10],\n",
              "       [4.e+00, 1.e+00]])"
            ]
          },
          "metadata": {
            "tags": []
          },
          "execution_count": 64
        }
      ]
    },
    {
      "cell_type": "code",
      "metadata": {
        "id": "ZxfY_kRCxzeh",
        "outputId": "ac64b08b-7969-4573-d4f6-9bf9c8538efe"
      },
      "source": [
        "np.add(A,B)"
      ],
      "execution_count": null,
      "outputs": [
        {
          "output_type": "execute_result",
          "data": {
            "text/plain": [
              "array([[3, 4],\n",
              "       [2, 3],\n",
              "       [5, 2]])"
            ]
          },
          "metadata": {
            "tags": []
          },
          "execution_count": 66
        }
      ]
    },
    {
      "cell_type": "markdown",
      "metadata": {
        "id": "IBKLZ7WXxzej"
      },
      "source": [
        "## Activity"
      ]
    },
    {
      "cell_type": "markdown",
      "metadata": {
        "id": "BJlyenJixzej"
      },
      "source": [
        "### Task 1"
      ]
    },
    {
      "cell_type": "markdown",
      "metadata": {
        "id": "m6Dz8IXbxzej"
      },
      "source": [
        "Create a function named `mat_desc()` that througouhly describes a matrix, it should: <br>\n",
        "1. Displays the shape, size, and rank of the matrix. <br>\n",
        "2. Displays whether the matrix is square or non-square. <br>\n",
        "3. Displays whether the matrix is an empty matrix. <br>\n",
        "4. Displays if the matrix is an identity, ones, or zeros matrix <br>\n",
        "   \n",
        "Use 5 sample matrices in which their shapes are not lower than $(3,3)$.\n",
        "In your methodology, create a flowchart discuss the functions and methods you have done. Present your results in the results section showing the description of each matrix you have declared."
      ]
    },
    {
      "cell_type": "code",
      "metadata": {
        "id": "vhlwcpzWxzek"
      },
      "source": [
        "# Function Area\n",
        "def mat_desc(matrix):\n",
        "   print(f'{matrix}\\n\\nShape:\\t{matrix.shape}\\nSize:\\t{np.product(matrix.shape)}\\nRank:\\t{matrix.ndim}\\n')\n",
        "   if matrix.size > 0:\n",
        "    is_square = True if matrix.shape[0] == matrix.shape[1] else False \n",
        "    is_identity = True if matrix.shape[0] == matrix.shape[1] and np.allclose(matrix, np.identity(matrix.shape[0])) else False\n",
        "    is_ones = True if np.all((matrix == 1)) else False \n",
        "    is_zero = True if np.all((matrix == 0)) else False \n",
        "    print(\n",
        "        f'is it a square?: {is_square}\\n'\n",
        "        f'is it identity?: {is_identity}\\n'\n",
        "        f'Is is a ones: {is_ones}\\n'\n",
        "        f'Is it a zero: {is_zero}\\n'\n",
        "        )\n",
        "   else:\n",
        "     print(\"The Matrix is Empty\")"
      ],
      "execution_count": 41,
      "outputs": []
    },
    {
      "cell_type": "code",
      "metadata": {
        "id": "i2-J_CMmxzel"
      },
      "source": [
        "## Matrix declarations\n",
        "mtrx_1 = np.array([   \n",
        "    [1,1,1],\n",
        "    [1,1,1],\n",
        "    [1,1,1]\n",
        "])\n",
        "mtrx_2= np.array([\n",
        "   [1,0,0],\n",
        "   [0,1,0],\n",
        "   [0,0,1]\n",
        "])\n",
        "mtrx_3 = np.array([   \n",
        "    [0,0,0],\n",
        "    [0,0,0],\n",
        "    [0,0,0]\n",
        "])\n",
        "mtrx_4 = np.array([   \n",
        "         [],\n",
        "         [],\n",
        "         []\n",
        "])\n",
        "\n",
        "mtrx_5 = np.array([   \n",
        "  [1,2,3,4],\n",
        "  [5,4,3,2],\n",
        "  [7,8,9,6]\n",
        "])"
      ],
      "execution_count": 42,
      "outputs": []
    },
    {
      "cell_type": "code",
      "metadata": {
        "id": "ErWiUS-Gxzen",
        "colab": {
          "base_uri": "https://localhost:8080/"
        },
        "outputId": "4471b928-325a-4055-8598-ea1443030c0c"
      },
      "source": [
        "#Printing the descriptions of the matrix\n",
        "print(\"First Matrix:\")\n",
        "mat_desc(mtrx_1)"
      ],
      "execution_count": 43,
      "outputs": [
        {
          "output_type": "stream",
          "text": [
            "First Matrix:\n",
            "[[1 1 1]\n",
            " [1 1 1]\n",
            " [1 1 1]]\n",
            "\n",
            "Shape:\t(3, 3)\n",
            "Size:\t9\n",
            "Rank:\t2\n",
            "\n",
            "is it a square?: True\n",
            "is it identity?: False\n",
            "Is is a ones: True\n",
            "Is it a zero: False\n",
            "\n"
          ],
          "name": "stdout"
        }
      ]
    },
    {
      "cell_type": "code",
      "metadata": {
        "id": "WeTEUPTczhc7",
        "colab": {
          "base_uri": "https://localhost:8080/"
        },
        "outputId": "d34fbc28-e1a1-4949-efbd-c57a68e6fb2a"
      },
      "source": [
        "print(\"Second Matrix:\")\n",
        "mat_desc(mtrx_2)"
      ],
      "execution_count": 44,
      "outputs": [
        {
          "output_type": "stream",
          "text": [
            "Second Matrix:\n",
            "[[1 0 0]\n",
            " [0 1 0]\n",
            " [0 0 1]]\n",
            "\n",
            "Shape:\t(3, 3)\n",
            "Size:\t9\n",
            "Rank:\t2\n",
            "\n",
            "is it a square?: True\n",
            "is it identity?: True\n",
            "Is is a ones: False\n",
            "Is it a zero: False\n",
            "\n"
          ],
          "name": "stdout"
        }
      ]
    },
    {
      "cell_type": "code",
      "metadata": {
        "id": "1WM3LwRqzv2F",
        "colab": {
          "base_uri": "https://localhost:8080/"
        },
        "outputId": "2c1124ae-f4f7-40e7-c7f5-f578c3755c2c"
      },
      "source": [
        "print(\"Third Matrix:\")\n",
        "mat_desc(mtrx_3)"
      ],
      "execution_count": 45,
      "outputs": [
        {
          "output_type": "stream",
          "text": [
            "Third Matrix:\n",
            "[[0 0 0]\n",
            " [0 0 0]\n",
            " [0 0 0]]\n",
            "\n",
            "Shape:\t(3, 3)\n",
            "Size:\t9\n",
            "Rank:\t2\n",
            "\n",
            "is it a square?: True\n",
            "is it identity?: False\n",
            "Is is a ones: False\n",
            "Is it a zero: True\n",
            "\n"
          ],
          "name": "stdout"
        }
      ]
    },
    {
      "cell_type": "code",
      "metadata": {
        "id": "tA7S4sIu1pNx",
        "colab": {
          "base_uri": "https://localhost:8080/"
        },
        "outputId": "84889709-210c-4768-b193-9f9d5ce9e357"
      },
      "source": [
        "print(\"Fourth Matrix:\")\n",
        "mat_desc(mtrx_4)"
      ],
      "execution_count": 46,
      "outputs": [
        {
          "output_type": "stream",
          "text": [
            "Fourth Matrix:\n",
            "[]\n",
            "\n",
            "Shape:\t(3, 0)\n",
            "Size:\t0\n",
            "Rank:\t2\n",
            "\n",
            "The Matrix is Empty\n"
          ],
          "name": "stdout"
        }
      ]
    },
    {
      "cell_type": "code",
      "metadata": {
        "id": "ggpwY5MI13db",
        "colab": {
          "base_uri": "https://localhost:8080/"
        },
        "outputId": "1d232d86-6279-4af8-9d0d-93c9a5c970e3"
      },
      "source": [
        "print(\"Fifth Matrix:\")\n",
        "mat_desc(mtrx_5)"
      ],
      "execution_count": 40,
      "outputs": [
        {
          "output_type": "stream",
          "text": [
            "Fifth Matrix:\n",
            "[[1 2 3 4]\n",
            " [5 4 3 2]\n",
            " [7 8 9 6]]\n",
            "\n",
            "Shape:\t(3, 4)\n",
            "Size:\t12\n",
            "Rank:\t2\n",
            "\n",
            "is it a square?: False\n",
            "is it identity?: False\n",
            "Is is a ones: False\n",
            "Is it a zero: False\n",
            "\n"
          ],
          "name": "stdout"
        }
      ]
    },
    {
      "cell_type": "markdown",
      "metadata": {
        "id": "G5VQhPeQxzeq"
      },
      "source": [
        "### Task 2"
      ]
    },
    {
      "cell_type": "markdown",
      "metadata": {
        "id": "K8tnuFylxzeq"
      },
      "source": [
        "Create a function named `mat_operations()` that takes in two matrices or scalars a input parameters it should:<br>\n",
        " 1. Display the description of each matrix, if the parameter is a scalar it tells that it is a scalar rather than describing it as a matrix.\n",
        " 2. Determines if the matrices are viable for operation and returns your own error message if they are not viable.\n",
        " 3. Returns the sum of the matrices.\n",
        " 4. Returns the differen of the matrices.\n",
        " 5. Returns the element-wise multiplication of the matrices.\n",
        " 6. Returns the element-wise division of the matrices.\n",
        "\n",
        "Use 5 sample matrices in which their shapes are not lower than $(3,3)$.\n",
        "In your methodology, create a flowchart discuss the functions and methods you have done. Present your results in the results section showing the description of each matrix you have declared."
      ]
    },
    {
      "cell_type": "code",
      "metadata": {
        "id": "syo-tZFSxzer"
      },
      "source": [
        "# Function Area\n",
        "def mat_operations(mtrx1, mtrx2): # Function for operation of matrices\n",
        "    alpha=10**-10\n",
        "    if np.isscalar(mtrx1) == True and np.isscalar(mtrx2) == True:\n",
        "      print(f'This is 1st scalar = {mtrx1}\\n'\n",
        "        f'This is 2nd scalar = {mtrx2}')\n",
        "    else: \n",
        "      print(f'The following description is the 1st matrix:\\n'\n",
        "          f'{mtrx1}\\n\\n'\n",
        "          f'Shape : {mtrx1.shape}\\n'\n",
        "          f'Rank: {mtrx1.ndim}\\n'\n",
        "          f'Size: {np.product(mtrx1.shape)}\\n')\n",
        "      if mtrx1.size >0:\n",
        "          is_square = True if mtrx1.shape[0] == mtrx1.shape[1] else False \n",
        "          is_identity = True if mtrx1.shape[0] == mtrx1.shape[1] and np.allclose(mtrx1, np.identity(mtrx1.shape[0])) else False\n",
        "          is_ones = True if np.all((mtrx1== 1)) else False \n",
        "          is_zero = True if np.all((mtrx1 == 0)) else False \n",
        "          print(\n",
        "        f'is it a square matrix?: {is_square}\\n'\n",
        "        f'is it identity matrix?: {is_identity}\\n'\n",
        "        f'Is is a ones matrix?: {is_ones}\\n'\n",
        "        f'Is it a zero matrix?: {is_zero}\\n'\n",
        "        )     \n",
        "          \n",
        "      print(f'This is a matrix, The following description is the 2nd matrix:\\n'\n",
        "        f'{mtrx2}\\n\\n'\n",
        "        f'Shape : {mtrx2.shape}\\n'\n",
        "        f'Rank: {mtrx2.ndim}\\n'\n",
        "        f'Size: {np.product(mtrx2.shape)}\\n')\n",
        "      if mtrx2.size > 0:\n",
        "          is_square = True if mtrx2.shape[0] == mtrx2.shape[1] else False \n",
        "          is_identity = True if mtrx2.shape[0] == mtrx2.shape[1] and np.allclose(mtrx2, np.identity(mtrx2.shape[0])) else False\n",
        "          is_ones = True if np.all((mtrx2== 1)) else False \n",
        "          is_zero = True if np.all((mtrx2 == 0)) else False \n",
        "          print(f'is it a square matrix?: {is_square}\\n'\n",
        "        f'is it identity matrix?: {is_identity}\\n'\n",
        "        f'Is is a ones matrix?: {is_ones}\\n'\n",
        "        f'Is it a zero matrix?: {is_zero}\\n'\n",
        "        )         \n",
        "      if (mtrx1.shape == mtrx2.shape):\n",
        "          print(\"\\nMatrices are viable for operation \")\n",
        "          sum = \"Sum of matrices\",np.add(mtrx1,mtrx2)\n",
        "          difference =\"Difference of matrices\",np.subtract(mtrx1,mtrx2)\n",
        "          product =\"Element-wise of multiplication\",np.multiply(mtrx1,mtrx2)\n",
        "          quotient =\"Element-wise of division\",np.divide(mtrx1,mtrx2+alpha)\n",
        "          return sum,difference,product,quotient\n",
        "   \n",
        "      else:\n",
        "         error = \"Not viable for matrix operation\"\n",
        "         return error\n"
      ],
      "execution_count": 47,
      "outputs": []
    },
    {
      "cell_type": "code",
      "metadata": {
        "id": "89iwngvK3yg8"
      },
      "source": [
        "# Matrix declaration\n",
        "mtrx_1= np.array([\n",
        "   [4,3,2],\n",
        "   [1,2,3],\n",
        "   [7,8,9]\n",
        "])\n",
        "mtrx_2 = np.array([   \n",
        "    [1,1,1],\n",
        "    [1,1,1],\n",
        "    [1,1,1]\n",
        "])       \n",
        "mtrx_3 = np.array([   \n",
        "    [1,0,0],\n",
        "    [0,1,0],\n",
        "    [0,0,1]\n",
        "])\n",
        "mtrx_4 = np.array([   \n",
        "    [0,0,0,0],\n",
        "    [0,0,0,0],\n",
        "    [0,0,0,0]\n",
        "])\n",
        "\n",
        "mtrx_5= np.array([   \n",
        "    [1,2,3],\n",
        "    [5,4,3],\n",
        "    [7,8,9]\n",
        "])"
      ],
      "execution_count": 48,
      "outputs": []
    },
    {
      "cell_type": "code",
      "metadata": {
        "id": "3EfRHv6rqKVJ"
      },
      "source": [
        "#Scalars\n",
        "x = 1\n",
        "y= 2"
      ],
      "execution_count": 49,
      "outputs": []
    },
    {
      "cell_type": "code",
      "metadata": {
        "id": "qkxrXj5Hxzes",
        "colab": {
          "base_uri": "https://localhost:8080/"
        },
        "outputId": "3416f65f-2a19-41f4-a739-e8a8a40cfb4b"
      },
      "source": [
        "# Printing Matrices\n",
        "print('First Pair')\n",
        "mat_operations(mtrx_1,mtrx_2)"
      ],
      "execution_count": 50,
      "outputs": [
        {
          "output_type": "stream",
          "text": [
            "First Pair\n",
            "The following description is the 1st matrix:\n",
            "[[4 3 2]\n",
            " [1 2 3]\n",
            " [7 8 9]]\n",
            "\n",
            "Shape : (3, 3)\n",
            "Rank: 2\n",
            "Size: 9\n",
            "\n",
            "is it a square matrix?: True\n",
            "is it identity matrix?: False\n",
            "Is is a ones matrix?: False\n",
            "Is it a zero matrix?: False\n",
            "\n",
            "This is a matrix, The following description is the 2nd matrix:\n",
            "[[1 1 1]\n",
            " [1 1 1]\n",
            " [1 1 1]]\n",
            "\n",
            "Shape : (3, 3)\n",
            "Rank: 2\n",
            "Size: 9\n",
            "\n",
            "is it a square matrix?: True\n",
            "is it identity matrix?: False\n",
            "Is is a ones matrix?: True\n",
            "Is it a zero matrix?: False\n",
            "\n",
            "\n",
            "Matrices are viable for operation \n"
          ],
          "name": "stdout"
        },
        {
          "output_type": "execute_result",
          "data": {
            "text/plain": [
              "(('Sum of matrices', array([[ 5,  4,  3],\n",
              "         [ 2,  3,  4],\n",
              "         [ 8,  9, 10]])), ('Difference of matrices', array([[3, 2, 1],\n",
              "         [0, 1, 2],\n",
              "         [6, 7, 8]])), ('Element-wise of multiplication', array([[4, 3, 2],\n",
              "         [1, 2, 3],\n",
              "         [7, 8, 9]])), ('Element-wise of division', array([[4., 3., 2.],\n",
              "         [1., 2., 3.],\n",
              "         [7., 8., 9.]])))"
            ]
          },
          "metadata": {
            "tags": []
          },
          "execution_count": 50
        }
      ]
    },
    {
      "cell_type": "code",
      "metadata": {
        "id": "2v4j9cN1xzeu",
        "colab": {
          "base_uri": "https://localhost:8080/",
          "height": 538
        },
        "outputId": "27da4704-434e-4adb-ef89-92cd37daa19c"
      },
      "source": [
        "print('Second Pair')\n",
        "mat_operations(mtrx_2,mtrx_4)"
      ],
      "execution_count": 51,
      "outputs": [
        {
          "output_type": "stream",
          "text": [
            "Second Pair\n",
            "The following description is the 1st matrix:\n",
            "[[1 1 1]\n",
            " [1 1 1]\n",
            " [1 1 1]]\n",
            "\n",
            "Shape : (3, 3)\n",
            "Rank: 2\n",
            "Size: 9\n",
            "\n",
            "is it a square matrix?: True\n",
            "is it identity matrix?: False\n",
            "Is is a ones matrix?: True\n",
            "Is it a zero matrix?: False\n",
            "\n",
            "This is a matrix, The following description is the 2nd matrix:\n",
            "[[0 0 0 0]\n",
            " [0 0 0 0]\n",
            " [0 0 0 0]]\n",
            "\n",
            "Shape : (3, 4)\n",
            "Rank: 2\n",
            "Size: 12\n",
            "\n",
            "is it a square matrix?: False\n",
            "is it identity matrix?: False\n",
            "Is is a ones matrix?: False\n",
            "Is it a zero matrix?: True\n",
            "\n"
          ],
          "name": "stdout"
        },
        {
          "output_type": "execute_result",
          "data": {
            "application/vnd.google.colaboratory.intrinsic+json": {
              "type": "string"
            },
            "text/plain": [
              "'Not viable for matrix operation'"
            ]
          },
          "metadata": {
            "tags": []
          },
          "execution_count": 51
        }
      ]
    },
    {
      "cell_type": "code",
      "metadata": {
        "id": "hGI52xep6Ou4",
        "colab": {
          "base_uri": "https://localhost:8080/"
        },
        "outputId": "d249064d-bcf9-4c5a-ee9c-444cca8b382a"
      },
      "source": [
        "print('Third Pair')\n",
        "mat_operations(mtrx_3,mtrx_2)"
      ],
      "execution_count": 52,
      "outputs": [
        {
          "output_type": "stream",
          "text": [
            "Third Pair\n",
            "The following description is the 1st matrix:\n",
            "[[1 0 0]\n",
            " [0 1 0]\n",
            " [0 0 1]]\n",
            "\n",
            "Shape : (3, 3)\n",
            "Rank: 2\n",
            "Size: 9\n",
            "\n",
            "is it a square matrix?: True\n",
            "is it identity matrix?: True\n",
            "Is is a ones matrix?: False\n",
            "Is it a zero matrix?: False\n",
            "\n",
            "This is a matrix, The following description is the 2nd matrix:\n",
            "[[1 1 1]\n",
            " [1 1 1]\n",
            " [1 1 1]]\n",
            "\n",
            "Shape : (3, 3)\n",
            "Rank: 2\n",
            "Size: 9\n",
            "\n",
            "is it a square matrix?: True\n",
            "is it identity matrix?: False\n",
            "Is is a ones matrix?: True\n",
            "Is it a zero matrix?: False\n",
            "\n",
            "\n",
            "Matrices are viable for operation \n"
          ],
          "name": "stdout"
        },
        {
          "output_type": "execute_result",
          "data": {
            "text/plain": [
              "(('Sum of matrices', array([[2, 1, 1],\n",
              "         [1, 2, 1],\n",
              "         [1, 1, 2]])), ('Difference of matrices', array([[ 0, -1, -1],\n",
              "         [-1,  0, -1],\n",
              "         [-1, -1,  0]])), ('Element-wise of multiplication', array([[1, 0, 0],\n",
              "         [0, 1, 0],\n",
              "         [0, 0, 1]])), ('Element-wise of division', array([[1., 0., 0.],\n",
              "         [0., 1., 0.],\n",
              "         [0., 0., 1.]])))"
            ]
          },
          "metadata": {
            "tags": []
          },
          "execution_count": 52
        }
      ]
    },
    {
      "cell_type": "code",
      "metadata": {
        "id": "3R9cKtv66qoN",
        "colab": {
          "base_uri": "https://localhost:8080/",
          "height": 538
        },
        "outputId": "f315f6b9-4dfa-41eb-b586-5c0f01a04a9b"
      },
      "source": [
        "print('Fourth Pair')\n",
        "mat_operations(mtrx_4,mtrx_5)"
      ],
      "execution_count": 53,
      "outputs": [
        {
          "output_type": "stream",
          "text": [
            "Fourth Pair\n",
            "The following description is the 1st matrix:\n",
            "[[0 0 0 0]\n",
            " [0 0 0 0]\n",
            " [0 0 0 0]]\n",
            "\n",
            "Shape : (3, 4)\n",
            "Rank: 2\n",
            "Size: 12\n",
            "\n",
            "is it a square matrix?: False\n",
            "is it identity matrix?: False\n",
            "Is is a ones matrix?: False\n",
            "Is it a zero matrix?: True\n",
            "\n",
            "This is a matrix, The following description is the 2nd matrix:\n",
            "[[1 2 3]\n",
            " [5 4 3]\n",
            " [7 8 9]]\n",
            "\n",
            "Shape : (3, 3)\n",
            "Rank: 2\n",
            "Size: 9\n",
            "\n",
            "is it a square matrix?: True\n",
            "is it identity matrix?: False\n",
            "Is is a ones matrix?: False\n",
            "Is it a zero matrix?: False\n",
            "\n"
          ],
          "name": "stdout"
        },
        {
          "output_type": "execute_result",
          "data": {
            "application/vnd.google.colaboratory.intrinsic+json": {
              "type": "string"
            },
            "text/plain": [
              "'Not viable for matrix operation'"
            ]
          },
          "metadata": {
            "tags": []
          },
          "execution_count": 53
        }
      ]
    },
    {
      "cell_type": "code",
      "metadata": {
        "id": "pIyN_Lta72uS",
        "colab": {
          "base_uri": "https://localhost:8080/"
        },
        "outputId": "e8862b10-1960-421d-d369-d9f22dcd7d1c"
      },
      "source": [
        "print('Fifth Pair')\n",
        "mat_operations(mtrx_5,mtrx_1)"
      ],
      "execution_count": 54,
      "outputs": [
        {
          "output_type": "stream",
          "text": [
            "Fifth Pair\n",
            "The following description is the 1st matrix:\n",
            "[[1 2 3]\n",
            " [5 4 3]\n",
            " [7 8 9]]\n",
            "\n",
            "Shape : (3, 3)\n",
            "Rank: 2\n",
            "Size: 9\n",
            "\n",
            "is it a square matrix?: True\n",
            "is it identity matrix?: False\n",
            "Is is a ones matrix?: False\n",
            "Is it a zero matrix?: False\n",
            "\n",
            "This is a matrix, The following description is the 2nd matrix:\n",
            "[[4 3 2]\n",
            " [1 2 3]\n",
            " [7 8 9]]\n",
            "\n",
            "Shape : (3, 3)\n",
            "Rank: 2\n",
            "Size: 9\n",
            "\n",
            "is it a square matrix?: True\n",
            "is it identity matrix?: False\n",
            "Is is a ones matrix?: False\n",
            "Is it a zero matrix?: False\n",
            "\n",
            "\n",
            "Matrices are viable for operation \n"
          ],
          "name": "stdout"
        },
        {
          "output_type": "execute_result",
          "data": {
            "text/plain": [
              "(('Sum of matrices', array([[ 5,  5,  5],\n",
              "         [ 6,  6,  6],\n",
              "         [14, 16, 18]])), ('Difference of matrices', array([[-3, -1,  1],\n",
              "         [ 4,  2,  0],\n",
              "         [ 0,  0,  0]])), ('Element-wise of multiplication',\n",
              "  array([[ 4,  6,  6],\n",
              "         [ 5,  8,  9],\n",
              "         [49, 64, 81]])), ('Element-wise of division',\n",
              "  array([[0.25      , 0.66666667, 1.5       ],\n",
              "         [5.        , 2.        , 1.        ],\n",
              "         [1.        , 1.        , 1.        ]])))"
            ]
          },
          "metadata": {
            "tags": []
          },
          "execution_count": 54
        }
      ]
    },
    {
      "cell_type": "code",
      "metadata": {
        "id": "1lqml98b8FwY",
        "colab": {
          "base_uri": "https://localhost:8080/"
        },
        "outputId": "c07071d5-dfd5-473d-82b0-dd300c6414da"
      },
      "source": [
        "# Printing both scalars\n",
        "print('These are scalar parameters')\n",
        "mat_operations(x,y)"
      ],
      "execution_count": 55,
      "outputs": [
        {
          "output_type": "stream",
          "text": [
            "These are scalar parameters\n",
            "This is 1st scalar = 1\n",
            "This is 2nd scalar = 2\n"
          ],
          "name": "stdout"
        }
      ]
    },
    {
      "cell_type": "markdown",
      "metadata": {
        "id": "M83pDms4xzew"
      },
      "source": [
        "## Conclusion"
      ]
    },
    {
      "cell_type": "markdown",
      "metadata": {
        "id": "g3Zrjwt5xzew"
      },
      "source": [
        "For your conclusion synthesize the concept and application of the laboratory. Briefly discuss what you have learned and achieved in this activity. Also answer the question: \"how can matrix operations solve problems in agriculture?\"."
      ]
    }
  ]
}