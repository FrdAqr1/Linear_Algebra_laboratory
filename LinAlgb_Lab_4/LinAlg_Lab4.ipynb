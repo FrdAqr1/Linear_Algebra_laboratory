{
 "cells": [
  {
   "cell_type": "markdown",
   "metadata": {},
   "source": [
    "# Linear Algebra for CpE\n",
    "## Laboratory 4 : Vector Operations"
   ]
  },
  {
   "cell_type": "markdown",
   "metadata": {},
   "source": [
    "#### Coded and submitted by:"
   ]
  },
  {
   "cell_type": "markdown",
   "metadata": {},
   "source": [
    "##### Aquiro, Freddielyn E."
   ]
  },
  {
   "cell_type": "markdown",
   "metadata": {},
   "source": [
    "58010"
   ]
  },
  {
   "cell_type": "markdown",
   "metadata": {},
   "source": [
    "### Task 1"
   ]
  },
  {
   "cell_type": "markdown",
   "metadata": {},
   "source": [
    "Make an explicit function (not using any of NumPy's preset functions) solving the modulus of a vector using the Euclidian Norm formula: \n",
    "$$||X|| = \\sqrt{\\sum_{n=1}^{N}x_n^2}$$\n",
    "Create a program flowchart for your algorithm and explain it in your methodology. Create 6 different vectors which their element count should not be lower than 4 elements. Explain the results at the results discussion section while comparing them to the `np.linalg.norm()` function."
   ]
  },
  {
   "cell_type": "code",
   "execution_count": 2,
   "metadata": {},
   "outputs": [],
   "source": [
    "import matplotlib.pyplot as plt\n",
    "import numpy as np\n",
    "%matplotlib inline"
   ]
  },
  {
   "cell_type": "code",
   "execution_count": 3,
   "metadata": {},
   "outputs": [],
   "source": [
    "import math "
   ]
  },
  {
   "cell_type": "code",
   "execution_count": 4,
   "metadata": {},
   "outputs": [
    {
     "name": "stdout",
     "output_type": "stream",
     "text": [
      "The result of the euclidean norm for the first vector is 4.242640687119285\n"
     ]
    }
   ],
   "source": [
    "# Vector 1\n",
    "vectorA= ([2,3,-1,-2])\n",
    "#  Getting the result of the euclidean norm or euclidean distance\n",
    "euclidean_norm1 = math.sqrt((vectorA[0])**2+vectorA[1]**2+vectorA[2]**2+vectorA[3]**2) \n",
    "print(\"The result of the euclidean norm for the first vector is\",euclidean_norm1)"
   ]
  },
  {
   "cell_type": "code",
   "execution_count": 5,
   "metadata": {},
   "outputs": [
    {
     "name": "stdout",
     "output_type": "stream",
     "text": [
      "The result of the euclidean norm for the second vector is 11.224972160321824\n"
     ]
    }
   ],
   "source": [
    "# Vector 2\n",
    "vectorB = ([4,5,6,7])\n",
    "#  Getting the result of the euclidean norm or euclidean distance \n",
    "euclidean_norm2 = math.sqrt((vectorB[0])**2+vectorB[1]**2+vectorB[2]**2+vectorB[3]**2)\n",
    "print(\"The result of the euclidean norm for the second vector is\",euclidean_norm2)"
   ]
  },
  {
   "cell_type": "code",
   "execution_count": 6,
   "metadata": {},
   "outputs": [
    {
     "name": "stdout",
     "output_type": "stream",
     "text": [
      "The result of the euclidean norm for the third vector is 7.3484692283495345\n"
     ]
    }
   ],
   "source": [
    "# Vector 3\n",
    "vectorC =([-2,-3,-4,-5,])\n",
    "#  Getting the result of the euclidean norm or euclidean distance \n",
    "euclidean_norm3 = math.sqrt((vectorC[0])**2+vectorC[1]**2+vectorC[2]**2+vectorC[3]**2)\n",
    "print(\"The result of the euclidean norm for the third vector is\",euclidean_norm3)"
   ]
  },
  {
   "cell_type": "code",
   "execution_count": 7,
   "metadata": {},
   "outputs": [
    {
     "name": "stdout",
     "output_type": "stream",
     "text": [
      "The result of the euclidean norm for the fourth vector is 15.165750888103101\n"
     ]
    }
   ],
   "source": [
    "# Vector 4\n",
    "vectorD =([6,7,8,9])\n",
    "# Getting the result of the euclidean norm or euclidean distance \n",
    "euclidean_norm4 = math.sqrt((vectorD[0])**2+vectorD[1]**2+vectorD[2]**2+vectorD[3]**2)\n",
    "print(\"The result of the euclidean norm for the fourth vector is\",euclidean_norm4)"
   ]
  },
  {
   "cell_type": "code",
   "execution_count": 8,
   "metadata": {},
   "outputs": [
    {
     "name": "stdout",
     "output_type": "stream",
     "text": [
      "The result of the euclidean norm for the fifth vector is 5.477225575051661\n"
     ]
    }
   ],
   "source": [
    "# Vector 5\n",
    "vectorX = ([1,2,3,4])\n",
    "# Getting the result of the euclidean norm or euclidean distance \n",
    "euclidean_norm5 = math.sqrt((vectorX[0])**2+vectorX[1]**2+vectorX[2]**2+vectorX[3]**2)\n",
    "print(\"The result of the euclidean norm for the fifth vector is\",euclidean_norm5)"
   ]
  },
  {
   "cell_type": "code",
   "execution_count": 9,
   "metadata": {},
   "outputs": [
    {
     "name": "stdout",
     "output_type": "stream",
     "text": [
      "The result of the euclidean norm for the sixth vector is 10.954451150103322\n"
     ]
    }
   ],
   "source": [
    "vectorY =([2,4,6,8])\n",
    "# Getting the result of the euclidean norm or euclidean distance \n",
    "euclidean_norm6 = math.sqrt((vectorY[0])**2+vectorY[1]**2+vectorY[2]**2+vectorY[3]**2) \n",
    "print(\"The result of the euclidean norm for the sixth vector is\",euclidean_norm6)"
   ]
  },
  {
   "cell_type": "code",
   "execution_count": 10,
   "metadata": {},
   "outputs": [],
   "source": [
    "# This is for the proving of the answers from the explicit function is same as the answers using the NumPy presents functions\n",
    "vectorA = np.array([2,3,-1,-2])\n",
    "vectorB = np.array([4,5,6,7])\n",
    "vectorC = np.array([-2,-3,-4,-5,])\n",
    "vectorD = np.array([6,7,8,9])\n",
    "vectorX = np.array([1,2,3,4])\n",
    "vectorY = np.array([2,4,6,8])"
   ]
  },
  {
   "cell_type": "code",
   "execution_count": 11,
   "metadata": {},
   "outputs": [
    {
     "name": "stdout",
     "output_type": "stream",
     "text": [
      "The follwing results using NumPy present functions:\n",
      "The euclidean norm for the first vector is 4.242640687119285\n",
      "The euclidean norm for the second vector is 11.224972160321824\n",
      "The euclidean norm for the third vector is 7.3484692283495345\n",
      "The euclidean norm for the fourth vector is 15.165750888103101\n",
      "The euclidean norm for the fifth vector is 5.477225575051661\n",
      "The euclidean norm for the sixth vector is 10.954451150103322\n"
     ]
    }
   ],
   "source": [
    "print(\"The follwing results using NumPy present functions:\")\n",
    "print(\"The euclidean norm for the first vector is\",np.linalg.norm(vectorA))\n",
    "print(\"The euclidean norm for the second vector is\",np.linalg.norm(vectorB))\n",
    "print(\"The euclidean norm for the third vector is\",np.linalg.norm(vectorC))\n",
    "print(\"The euclidean norm for the fourth vector is\",np.linalg.norm(vectorD))\n",
    "print(\"The euclidean norm for the fifth vector is\",np.linalg.norm(vectorX))\n",
    "print(\"The euclidean norm for the sixth vector is\",np.linalg.norm(vectorY))"
   ]
  },
  {
   "cell_type": "markdown",
   "metadata": {},
   "source": [
    "### Task 2"
   ]
  },
  {
   "cell_type": "markdown",
   "metadata": {},
   "source": [
    "Make an explicit function (not using any of NumPy's preset functions nor the `@` operator) solving the inner product of two vectors using the inner product formula: \n",
    "$$A\\cdot B = \\sum_{n=1}^{N} a_n \\times b_n $$\n",
    "$$whereas: N = len(A) = len(B)$$\n",
    "Create a program flowchart for your algorithm and explain it in your methodology. Create 5 distinct pairs vectors which their element count should not be lower than 5 elements. Explain the results at the results discussion section while comparing them to the `np.inner()` function."
   ]
  },
  {
   "cell_type": "code",
   "execution_count": 12,
   "metadata": {},
   "outputs": [
    {
     "name": "stdout",
     "output_type": "stream",
     "text": [
      "The product of the first pair of vectors is equal to  35\n"
     ]
    }
   ],
   "source": [
    "# First pair of vectors\n",
    "vectorX = ([6,5,4,3,2])\n",
    "vectorY = ([2,1,0,4,3])\n",
    "DotProduct1 = (vectorX[0]*vectorY[0] + vectorX[1]*vectorY[1]+ vectorX[2]*vectorY[2] + vectorX[3]*vectorY[3]+ vectorX[4]*vectorY[4])\n",
    "print(\"The product of the first pair of vectors is equal to \",DotProduct1)"
   ]
  },
  {
   "cell_type": "code",
   "execution_count": 13,
   "metadata": {},
   "outputs": [
    {
     "name": "stdout",
     "output_type": "stream",
     "text": [
      "The product of the second pair of vectors is equal to  -41\n"
     ]
    }
   ],
   "source": [
    "# Second pair of vectors\n",
    "vectorA = ([11,12,13,14,15])\n",
    "vectorB = ([-2,-3,-1,0,2])\n",
    "DotProduct2 = (vectorA[0]*vectorB[0] + vectorA[1]*vectorB[1]+ vectorA[2]*vectorB[2] + vectorA[3]*vectorB[3]+ vectorA[4]*vectorB[4])\n",
    "print(\"The product of the second pair of vectors is equal to \",DotProduct2)"
   ]
  },
  {
   "cell_type": "code",
   "execution_count": 14,
   "metadata": {},
   "outputs": [
    {
     "name": "stdout",
     "output_type": "stream",
     "text": [
      "The product of the third pair of vectors is equal to  1004\n"
     ]
    }
   ],
   "source": [
    "#Third pair of vectors\n",
    "vectorC = ([6,16,26,36,66])\n",
    "vectorD = ([-1,-2,-3,1,5])\n",
    "DotProduct3 = (vectorC[0]*vectorD[0] + vectorC[1]*vectorD[1]+ vectorC[2]*vectorC[2] + vectorC[3]*vectorD[3]+ vectorC[4]*vectorD[4])\n",
    "print(\"The product of the third pair of vectors is equal to \",DotProduct3)"
   ]
  },
  {
   "cell_type": "code",
   "execution_count": 15,
   "metadata": {},
   "outputs": [
    {
     "name": "stdout",
     "output_type": "stream",
     "text": [
      "The product of the fourth pair of vectors is equal to  45\n"
     ]
    }
   ],
   "source": [
    "#Fourth pair of vectors\n",
    "vectorE = ([5,6,1,3,7])\n",
    "vectorF = ([0,1,2,3,4])\n",
    "DotProduct4 = (vectorE[0]*vectorF[0] + vectorE[1]*vectorF[1]+ vectorE[2]*vectorF[2] + vectorE[3]*vectorF[3]+ vectorE[4]*vectorF[4])\n",
    "print(\"The product of the fourth pair of vectors is equal to \",DotProduct4)"
   ]
  },
  {
   "cell_type": "code",
   "execution_count": 16,
   "metadata": {},
   "outputs": [
    {
     "name": "stdout",
     "output_type": "stream",
     "text": [
      "The product of the fourth pair of vectors is equal to -702\n"
     ]
    }
   ],
   "source": [
    "#Fifth pair of vectors\n",
    "vectorG = ([11,22,28,10,2])\n",
    "vectorH = ([-10,-11,-18,12,17])\n",
    "DotProduct5 = (vectorG[0]*vectorH[0] + vectorG[1]*vectorH[1]+ vectorG[2]*vectorH[2] + vectorG[3]*vectorH[3]+ vectorG[4]*vectorH[4])\n",
    "print(\"The product of the fourth pair of vectors is equal to\",DotProduct5)"
   ]
  },
  {
   "cell_type": "code",
   "execution_count": 17,
   "metadata": {},
   "outputs": [],
   "source": [
    "# Using NumPy present functions for proving the answers of the five pair vectors\n",
    "# First pair of vectors\n",
    "vectorX = np.array ([6,5,4,3,2])\n",
    "vectorY = np.array([2,1,0,4,3])\n",
    "\n",
    "# Second pair of vectors\n",
    "vectorA = np.array([11,12,13,14,15])\n",
    "vectorB = np.array([-2,-3,-1,0,2])\n",
    "\n",
    "#Third pair of vectors\n",
    "vectorC = np.array([6,16,26,36,66])\n",
    "vectorD = np.array([-1,-2,-3,1,5])\n",
    "\n",
    "#Fourth pair of vectors\n",
    "vectorE = np.array([5,6,1,3,7])\n",
    "vectorF = np.array([0,1,2,3,4])\n",
    "\n",
    "#Fifth pair of vectors\n",
    "vectorG = np.array([11,22,28,10,2])\n",
    "vectorH = np.array([-10,-11,-18,12,17])"
   ]
  },
  {
   "cell_type": "code",
   "execution_count": 18,
   "metadata": {},
   "outputs": [
    {
     "name": "stdout",
     "output_type": "stream",
     "text": [
      "The following result is the dot product of the two vectors using NumPy present function: \n",
      "First pair of vectors is:  35\n",
      "Second pair of vectors is: -41\n",
      "Third pair of vectors is: 250\n",
      "Fourth pair of vectors is: 250\n",
      "Fifth pair of vectors is: 250\n"
     ]
    }
   ],
   "source": [
    "print(\"The following result is the dot product of the two vectors using NumPy present function: \")\n",
    "print(\"First pair of vectors is: \",np.inner(vectorX,vectorY))\n",
    "print(\"Second pair of vectors is:\",np.inner(vectorA,vectorB))\n",
    "print(\"Third pair of vectors is:\",np.inner(vectorC,vectorD))\n",
    "print(\"Fourth pair of vectors is:\",np.inner(vectorC,vectorD))\n",
    "print(\"Fifth pair of vectors is:\",np.inner(vectorC,vectorD))"
   ]
  },
  {
   "cell_type": "markdown",
   "metadata": {},
   "source": [
    "### Task 3"
   ]
  },
  {
   "cell_type": "markdown",
   "metadata": {},
   "source": [
    "Code the following vector operation and solve them using the given vector values"
   ]
  },
  {
   "cell_type": "markdown",
   "metadata": {},
   "source": [
    "$$A = \\begin{bmatrix}-0.4\\\\0.2\\\\-0.6\\end{bmatrix}, B = \\begin{bmatrix}-0.2\\\\0.2\\\\1\\end{bmatrix}, C = \\begin{bmatrix}0.2\\\\-0.1\\\\-0.5\\end{bmatrix}$$"
   ]
  },
  {
   "cell_type": "markdown",
   "metadata": {},
   "source": [
    "Create a program flowchart for your algorithm and explain it in your methodology. In your results, compare your answer to the expected output, visualize, and explain the resulting vector using a 3D plot."
   ]
  },
  {
   "cell_type": "code",
   "execution_count": 19,
   "metadata": {},
   "outputs": [],
   "source": [
    "#Given vectors\n",
    "A = np.array([-0.4,0.3,-0.6])\n",
    "B = np.array([-0.2,0.2,1])\n",
    "C = np.array([0.2,0.1,-0.5])"
   ]
  },
  {
   "cell_type": "code",
   "execution_count": 20,
   "metadata": {},
   "outputs": [
    {
     "data": {
      "text/plain": [
       "1.99"
      ]
     },
     "execution_count": 20,
     "metadata": {},
     "output_type": "execute_result"
    }
   ],
   "source": [
    "A@A + B@B + C@C"
   ]
  },
  {
   "cell_type": "code",
   "execution_count": 21,
   "metadata": {},
   "outputs": [
    {
     "data": {
      "text/plain": [
       "array([0.24, 0.78, 0.48])"
      ]
     },
     "execution_count": 21,
     "metadata": {},
     "output_type": "execute_result"
    }
   ],
   "source": [
    "A*(B+A*B)/C"
   ]
  },
  {
   "cell_type": "code",
   "execution_count": 22,
   "metadata": {},
   "outputs": [
    {
     "data": {
      "text/plain": [
       "0.7280109889280518"
      ]
     },
     "execution_count": 22,
     "metadata": {},
     "output_type": "execute_result"
    }
   ],
   "source": [
    "np.linalg.norm(A+B+C)"
   ]
  },
  {
   "cell_type": "code",
   "execution_count": 23,
   "metadata": {},
   "outputs": [
    {
     "name": "stdout",
     "output_type": "stream",
     "text": [
      "[0.34769805 1.13001866 0.6953961 ]\n"
     ]
    }
   ],
   "source": [
    "result = (A@A + B@B + C@C) * (A*(B+A*B)/C) *(np.linalg.norm(A+B+C))\n",
    "print(result)"
   ]
  },
  {
   "cell_type": "code",
   "execution_count": 24,
   "metadata": {},
   "outputs": [
    {
     "data": {
      "image/png": "[encoded data removed]",
      "text/plain": [
       "<Figure size 432x288 with 1 Axes>"
      ]
     },
     "metadata": {
      "needs_background": "light"
     },
     "output_type": "display_data"
    }
   ],
   "source": [
    "fig = plt.figure()\n",
    "ax = fig.gca(projection='3d')\n",
    "ax.set_xlim([0, 1.2])\n",
    "ax.set_ylim([0, 1.2])\n",
    "ax.set_zlim([0, 1.2])\n",
    "ax.quiver(0, 0, 0, result[0], result[1], result[2], colors='coral', arrow_length_ratio=0.05,linestyle = '--')\n",
    "plt.title(\"3 Dimensional plot of vectors \")\n",
    "plt.show()"
   ]
  },
  {
   "cell_type": "markdown",
   "metadata": {},
   "source": [
    "## Conclusion guide"
   ]
  },
  {
   "cell_type": "markdown",
   "metadata": {},
   "source": [
    "For your conclusion synthesize the concept and application of the laboratory. Briefly discuss what you have learn and achieved in this activity. "
   ]
  }
 ],
 "metadata": {
  "kernelspec": {
   "display_name": "Python 3",
   "language": "python",
   "name": "python3"
  },
  "language_info": {
   "codemirror_mode": {
    "name": "ipython",
    "version": 3
   },
   "file_extension": ".py",
   "mimetype": "text/x-python",
   "name": "python",
   "nbconvert_exporter": "python",
   "pygments_lexer": "ipython3",
   "version": "3.8.3"
  }
 },
 "nbformat": 4,
 "nbformat_minor": 4
}
