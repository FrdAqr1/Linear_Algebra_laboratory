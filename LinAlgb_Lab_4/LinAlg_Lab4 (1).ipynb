{
  "nbformat": 4,
  "nbformat_minor": 0,
  "metadata": {
    "kernelspec": {
      "display_name": "Python 3",
      "language": "python",
      "name": "python3"
    },
    "language_info": {
      "codemirror_mode": {
        "name": "ipython",
        "version": 3
      },
      "file_extension": ".py",
      "mimetype": "text/x-python",
      "name": "python",
      "nbconvert_exporter": "python",
      "pygments_lexer": "ipython3",
      "version": "3.8.3"
    },
    "colab": {
      "name": "LinAlg_Lab4.ipynb",
      "provenance": []
    }
  },
  "cells": [
    {
      "cell_type": "markdown",
      "metadata": {
        "id": "_qKu3_FgGSKX"
      },
      "source": [
        "# Linear Algebra for CpE\n",
        "## Laboratory 4 : Vector Operations"
      ]
    },
    {
      "cell_type": "markdown",
      "metadata": {
        "id": "vA4l7yqoGSKf"
      },
      "source": [
        "#### Coded and submitted by:"
      ]
    },
    {
      "cell_type": "markdown",
      "metadata": {
        "id": "JVeM09a8GSKj"
      },
      "source": [
        "##### Aquiro, Freddielyn E."
      ]
    },
    {
      "cell_type": "markdown",
      "metadata": {
        "id": "eCVyUGWjGSKl"
      },
      "source": [
        "58010"
      ]
    },
    {
      "cell_type": "markdown",
      "metadata": {
        "id": "tkntSKIRGSKn"
      },
      "source": [
        "### Task 1"
      ]
    },
    {
      "cell_type": "markdown",
      "metadata": {
        "id": "E538n0rTGSKs"
      },
      "source": [
        "Make an explicit function (not using any of NumPy's preset functions) solving the modulus of a vector using the Euclidian Norm formula: \n",
        "$$||X|| = \\sqrt{\\sum_{n=1}^{N}x_n^2}$$\n",
        "Create a program flowchart for your algorithm and explain it in your methodology. Create 6 different vectors which their element count should not be lower than 4 elements. Explain the results at the results discussion section while comparing them to the `np.linalg.norm()` function."
      ]
    },
    {
      "cell_type": "code",
      "metadata": {
        "id": "DnfkaUwgGSK9"
      },
      "source": [
        "import math "
      ],
      "execution_count": 1,
      "outputs": []
    },
    {
      "cell_type": "code",
      "metadata": {
        "id": "TTDG6nKAGSLJ",
        "outputId": "219a87f4-0519-4aed-e150-911cf558e447",
        "colab": {
          "base_uri": "https://localhost:8080/",
          "height": 34
        }
      },
      "source": [
        "# This is for explicit function\n",
        "# Vector 1\n",
        "vectorA= ([2,3,-1,-2])\n",
        "\n",
        "#Multiplying the elemnents of the vector\n",
        "vector_A = ((vectorA[0])**2)+(vectorA[1]**2)+(vectorA[2]**2+vectorA[3]**2)\n",
        "\n",
        "#  Getting the result of the euclidean norm or euclidean distance using the math.sqrt()\n",
        "euclidean_norm1 = math.sqrt(vector_A)\n",
        "\n",
        "#Show the result \n",
        "print(\"The result of the euclidean norm for the first vector is: \",euclidean_norm1)"
      ],
      "execution_count": 2,
      "outputs": [
        {
          "output_type": "stream",
          "text": [
            "The result of the euclidean norm for the first vector is:  4.242640687119285\n"
          ],
          "name": "stdout"
        }
      ]
    },
    {
      "cell_type": "code",
      "metadata": {
        "id": "ir09kRdWGSLV",
        "outputId": "872603d4-b1d1-4f16-9025-d59bb9a32021",
        "colab": {
          "base_uri": "https://localhost:8080/",
          "height": 34
        }
      },
      "source": [
        "# Vector 2\n",
        "vectorB = ([4,5,6,7])\n",
        "\n",
        "#Multiplying the elemnents of the vector\n",
        "vector_B = (vectorB[0])**2+vectorB[1]**2+(vectorB[2]**2+(vectorB[3]**2))\n",
        "\n",
        "#  Getting the result of the euclidean norm or euclidean distance using the math.sqrt()\n",
        "euclidean_norm2 = math.sqrt(vector_B)\n",
        "\n",
        "#Show the result \n",
        "print(\"The result of the euclidean norm for the second vector is:\",euclidean_norm2)"
      ],
      "execution_count": 3,
      "outputs": [
        {
          "output_type": "stream",
          "text": [
            "The result of the euclidean norm for the second vector is: 11.224972160321824\n"
          ],
          "name": "stdout"
        }
      ]
    },
    {
      "cell_type": "code",
      "metadata": {
        "id": "lrn2ukk3GSLi",
        "outputId": "e524ceb6-d705-44c8-8e60-5c4285b1adf5",
        "colab": {
          "base_uri": "https://localhost:8080/",
          "height": 34
        }
      },
      "source": [
        "# Vector 3\n",
        "vectorC =([-2,-3,-4,-5,])\n",
        "\n",
        "#Multiplying the elemnents of the vector\n",
        "vector_C = (vectorC[0])**2+vectorC[1]**2+(vectorC[2]**2+(vectorC[3]**2))\n",
        "\n",
        "#Getting the result of the euclidean norm or euclidean distance using the math.sqrt()\n",
        "euclidean_norm3 = math.sqrt(vector_C)\n",
        "\n",
        "#Show the result \n",
        "print(\"The result of the euclidean norm for the third vector is:\",euclidean_norm3)"
      ],
      "execution_count": 4,
      "outputs": [
        {
          "output_type": "stream",
          "text": [
            "The result of the euclidean norm for the third vector is: 7.3484692283495345\n"
          ],
          "name": "stdout"
        }
      ]
    },
    {
      "cell_type": "code",
      "metadata": {
        "id": "K1MoJ8IPGSLt",
        "outputId": "b3518d69-cd7c-4ff8-cfe6-17fd5b6dd0cc",
        "colab": {
          "base_uri": "https://localhost:8080/",
          "height": 34
        }
      },
      "source": [
        "# Vector 4\n",
        "vectorD =([6,7,8,9])\n",
        "\n",
        "#Multiplying the elemnents of the vector\n",
        "vector_D = (vectorD[0])**2+vectorD[1]**2+(vectorD[2]**2+(vectorD[3]**2))\n",
        "\n",
        "# Getting the result of the euclidean norm or euclidean distance using the math.sqrt()\n",
        "euclidean_norm4 = math.sqrt(vector_D)\n",
        "\n",
        "#Show the result\n",
        "print(\"The result of the euclidean norm for the fourth vector is\",euclidean_norm4)"
      ],
      "execution_count": 5,
      "outputs": [
        {
          "output_type": "stream",
          "text": [
            "The result of the euclidean norm for the fourth vector is 15.165750888103101\n"
          ],
          "name": "stdout"
        }
      ]
    },
    {
      "cell_type": "code",
      "metadata": {
        "id": "hYAGFDqpGSL6",
        "outputId": "ea22f2db-54ba-475b-95a4-de4d7e35e54d",
        "colab": {
          "base_uri": "https://localhost:8080/",
          "height": 34
        }
      },
      "source": [
        "# Vector 5\n",
        "vectorX = ([1,2,3,4])\n",
        "\n",
        "#Multiplying the elemnents of the vector\n",
        "vector_X = (vectorX[0])**2+vectorX[1]**2+(vectorX[2]**2+(vectorX[3]**2))\n",
        "\n",
        "# Getting the result of the euclidean norm or euclidean distance using the math.sqrt()\n",
        "euclidean_norm5 = math.sqrt(vector_X)\n",
        "\n",
        "#Show the result\n",
        "print(\"The result of the euclidean norm for the fifth vector is:\",euclidean_norm5)"
      ],
      "execution_count": 6,
      "outputs": [
        {
          "output_type": "stream",
          "text": [
            "The result of the euclidean norm for the fifth vector is: 5.477225575051661\n"
          ],
          "name": "stdout"
        }
      ]
    },
    {
      "cell_type": "code",
      "metadata": {
        "id": "jzRClDr2GSMG",
        "outputId": "8da3ca0c-1add-47cd-b7e7-6a9205a43211",
        "colab": {
          "base_uri": "https://localhost:8080/",
          "height": 34
        }
      },
      "source": [
        "#Vector 6\n",
        "vectorY =([2,4,6,8])\n",
        "\n",
        "#Multiplying the elemnents of the vector\n",
        "vector_Y = (vectorY[0])**2+vectorY[1]**2+(vectorY[2]**2+(vectorY[3]**2))\n",
        "\n",
        "# Getting the result of the euclidean norm or euclidean distance using math.sqrt()\n",
        "euclidean_norm6 = math.sqrt(vector_Y)\n",
        "\n",
        "#show the result\n",
        "print(\"The result of the euclidean norm for the sixth vector is:\",euclidean_norm6)"
      ],
      "execution_count": 7,
      "outputs": [
        {
          "output_type": "stream",
          "text": [
            "The result of the euclidean norm for the sixth vector is: 10.954451150103322\n"
          ],
          "name": "stdout"
        }
      ]
    },
    {
      "cell_type": "code",
      "metadata": {
        "id": "0ldbMl5vM8DI"
      },
      "source": [
        "import numpy as np\n",
        "import matplotlib.pyplot as plt\n",
        "%matplotlib inline"
      ],
      "execution_count": 8,
      "outputs": []
    },
    {
      "cell_type": "code",
      "metadata": {
        "id": "9JGeExSBGSMQ"
      },
      "source": [
        "# This is for the proving of the answers from the explicit function is same as the answers using the NumPy presents functions\n",
        "#The list of vectors\n",
        "vectorA = np.array([2,3,-1,-2])\n",
        "vectorB = np.array([4,5,6,7])\n",
        "vectorC = np.array([-2,-3,-4,-5,])\n",
        "vectorD = np.array([6,7,8,9])\n",
        "vectorX = np.array([1,2,3,4])\n",
        "vectorY = np.array([2,4,6,8])"
      ],
      "execution_count": 9,
      "outputs": []
    },
    {
      "cell_type": "code",
      "metadata": {
        "id": "corHhQVZGSMb",
        "outputId": "1d6a6be4-4eea-4ef4-e7be-b0f1308cebb8",
        "colab": {
          "base_uri": "https://localhost:8080/",
          "height": 134
        }
      },
      "source": [
        "print(\"The follwing results using NumPy present functions:\")\n",
        "print(\"The euclidean norm for the first vector is equal to: \",np.linalg.norm(vectorA))\n",
        "print(\"The euclidean norm for the second vector is equal to:\",np.linalg.norm(vectorB))\n",
        "print(\"The euclidean norm for the third vector is equal to:\",np.linalg.norm(vectorC))\n",
        "print(\"The euclidean norm for the fourth vector is equal to: \",np.linalg.norm(vectorD))\n",
        "print(\"The euclidean norm for the fifth vector is equal to:\",np.linalg.norm(vectorX))\n",
        "print(\"The euclidean norm for the sixth vector is equal to:\",np.linalg.norm(vectorY))"
      ],
      "execution_count": 11,
      "outputs": [
        {
          "output_type": "stream",
          "text": [
            "The follwing results using NumPy present functions:\n",
            "The euclidean norm for the first vector is equal to:  4.242640687119285\n",
            "The euclidean norm for the second vector is equal to: 11.224972160321824\n",
            "The euclidean norm for the third vector is equal to: 7.3484692283495345\n",
            "The euclidean norm for the fourth vector is equal to:  15.165750888103101\n",
            "The euclidean norm for the fifth vector is equal to: 5.477225575051661\n",
            "The euclidean norm for the sixth vector is equal to: 10.954451150103322\n"
          ],
          "name": "stdout"
        }
      ]
    },
    {
      "cell_type": "markdown",
      "metadata": {
        "id": "kyqH4kydGSMj"
      },
      "source": [
        "### Task 2"
      ]
    },
    {
      "cell_type": "markdown",
      "metadata": {
        "id": "BIXiYHqlGSMk"
      },
      "source": [
        "Make an explicit function (not using any of NumPy's preset functions nor the `@` operator) solving the inner product of two vectors using the inner product formula: \n",
        "$$A\\cdot B = \\sum_{n=1}^{N} a_n \\times b_n $$\n",
        "$$whereas: N = len(A) = len(B)$$\n",
        "Create a program flowchart for your algorithm and explain it in your methodology. Create 5 distinct pairs vectors which their element count should not be lower than 5 elements. Explain the results at the results discussion section while comparing them to the `np.inner()` function."
      ]
    },
    {
      "cell_type": "code",
      "metadata": {
        "id": "kNdhrbTKGSMm",
        "outputId": "12545e1c-a237-497d-fdcd-4871ed0842eb",
        "colab": {
          "base_uri": "https://localhost:8080/",
          "height": 34
        }
      },
      "source": [
        "# First pair of vectors\n",
        "vectorX = ([6,5,4,3,2])\n",
        "vectorY = ([2,1,0,4,3])\n",
        "DotProduct1 = (vectorX[0]*vectorY[0] + vectorX[1]*vectorY[1]+ vectorX[2]*vectorY[2] + vectorX[3]*vectorY[3]+ vectorX[4]*vectorY[4])\n",
        "print(\"The product of the first pair of vectors is equal to \",DotProduct1)"
      ],
      "execution_count": 12,
      "outputs": [
        {
          "output_type": "stream",
          "text": [
            "The product of the first pair of vectors is equal to  35\n"
          ],
          "name": "stdout"
        }
      ]
    },
    {
      "cell_type": "code",
      "metadata": {
        "id": "OCtOWPsJGSMt",
        "outputId": "bb63fedd-fbab-4f4a-f1ab-c2346c692667",
        "colab": {
          "base_uri": "https://localhost:8080/",
          "height": 34
        }
      },
      "source": [
        "# Second pair of vectors\n",
        "vectorA = ([11,12,13,14,15])\n",
        "vectorB = ([-2,-3,-1,0,2])\n",
        "DotProduct2 = (vectorA[0]*vectorB[0] + vectorA[1]*vectorB[1]+ vectorA[2]*vectorB[2] + vectorA[3]*vectorB[3]+ vectorA[4]*vectorB[4])\n",
        "print(\"The product of the second pair of vectors is equal to \",DotProduct2)"
      ],
      "execution_count": 13,
      "outputs": [
        {
          "output_type": "stream",
          "text": [
            "The product of the second pair of vectors is equal to  -41\n"
          ],
          "name": "stdout"
        }
      ]
    },
    {
      "cell_type": "code",
      "metadata": {
        "id": "unGQYVP7GSM1",
        "outputId": "822df3d3-cd66-4c59-af9f-a5318c7c8f30",
        "colab": {
          "base_uri": "https://localhost:8080/",
          "height": 34
        }
      },
      "source": [
        "#Third pair of vectors\n",
        "vectorC = ([6,16,26,36,66])\n",
        "vectorD = ([-1,-2,-3,1,5])\n",
        "DotProduct3 = (vectorC[0]*vectorD[0] + vectorC[1]*vectorD[1]+ vectorC[2]*vectorD[2] + vectorC[3]*vectorD[3]+ vectorC[4]*vectorD[4])\n",
        "print(\"The product of the third pair of vectors is equal to \",DotProduct3)"
      ],
      "execution_count": 14,
      "outputs": [
        {
          "output_type": "stream",
          "text": [
            "The product of the third pair of vectors is equal to  250\n"
          ],
          "name": "stdout"
        }
      ]
    },
    {
      "cell_type": "code",
      "metadata": {
        "id": "PkLg6hlJGSM9",
        "outputId": "ba78dbec-70c2-43fb-e690-bbe29a0896a2",
        "colab": {
          "base_uri": "https://localhost:8080/",
          "height": 34
        }
      },
      "source": [
        "#Fourth pair of vectors\n",
        "vectorE = ([5,6,1,3,7])\n",
        "vectorF = ([0,1,2,3,4])\n",
        "DotProduct4 = (vectorE[0]*vectorF[0] + vectorE[1]*vectorF[1]+ vectorE[2]*vectorF[2] + vectorE[3]*vectorF[3]+ vectorE[4]*vectorF[4])\n",
        "print(\"The product of the fourth pair of vectors is equal to \",DotProduct4)"
      ],
      "execution_count": 15,
      "outputs": [
        {
          "output_type": "stream",
          "text": [
            "The product of the fourth pair of vectors is equal to  45\n"
          ],
          "name": "stdout"
        }
      ]
    },
    {
      "cell_type": "code",
      "metadata": {
        "id": "6l0yzMkKGSNG",
        "outputId": "b57cdea0-f3ac-4a3b-f43a-1a08dd72701f",
        "colab": {
          "base_uri": "https://localhost:8080/",
          "height": 34
        }
      },
      "source": [
        "#Fifth pair of vectors\n",
        "vectorG = ([11,22,28,10,2])\n",
        "vectorH = ([-10,-11,-18,12,17])\n",
        "DotProduct5 = (vectorG[0]*vectorH[0] + vectorG[1]*vectorH[1]+ vectorG[2]*vectorH[2] + vectorG[3]*vectorH[3]+ vectorG[4]*vectorH[4])\n",
        "print(\"The product of the fourth pair of vectors is equal to\",DotProduct5)"
      ],
      "execution_count": 16,
      "outputs": [
        {
          "output_type": "stream",
          "text": [
            "The product of the fourth pair of vectors is equal to -702\n"
          ],
          "name": "stdout"
        }
      ]
    },
    {
      "cell_type": "code",
      "metadata": {
        "id": "v8IBHEw2GSNN"
      },
      "source": [
        "# Using NumPy present functions for proving the answers of the five pair vectors\n",
        "# First pair of vectors\n",
        "\n",
        "vectorX = np.array ([6,5,4,3,2])\n",
        "vectorY = np.array([2,1,0,4,3])\n",
        "\n",
        "# Second pair of vectors\n",
        "vectorA = np.array([11,12,13,14,15])\n",
        "vectorB = np.array([-2,-3,-1,0,2])\n",
        "\n",
        "#Third pair of vectors\n",
        "vectorC = np.array([6,16,26,36,66])\n",
        "vectorD = np.array([-1,-2,-3,1,5])\n",
        "\n",
        "#Fourth pair of vectors\n",
        "vectorE = np.array([5,6,1,3,7])\n",
        "vectorF = np.array([0,1,2,3,4])\n",
        "\n",
        "#Fifth pair of vectors\n",
        "vectorG = np.array([11,22,28,10,2])\n",
        "vectorH = np.array([-10,-11,-18,12,17])"
      ],
      "execution_count": 17,
      "outputs": []
    },
    {
      "cell_type": "code",
      "metadata": {
        "id": "sNXzpTo0GSNW",
        "outputId": "6a528277-5e4f-4089-8e9c-1881afaf6f60",
        "colab": {
          "base_uri": "https://localhost:8080/",
          "height": 118
        }
      },
      "source": [
        "print(\"The following result is the dot product of the two vectors using NumPy present function: \")\n",
        "print(\"First pair of vectors is: \",np.inner(vectorX,vectorY))\n",
        "print(\"Second pair of vectors is:\",np.inner(vectorA,vectorB))\n",
        "print(\"Third pair of vectors is:\",np.inner(vectorC,vectorD))\n",
        "print(\"Fourth pair of vectors is:\",np.inner(vectorE,vectorF))\n",
        "print(\"Fifth pair of vectors is:\",np.inner(vectorG,vectorH))"
      ],
      "execution_count": 18,
      "outputs": [
        {
          "output_type": "stream",
          "text": [
            "The following result is the dot product of the two vectors using NumPy present function: \n",
            "First pair of vectors is:  35\n",
            "Second pair of vectors is: -41\n",
            "Third pair of vectors is: 250\n",
            "Fourth pair of vectors is: 45\n",
            "Fifth pair of vectors is: -702\n"
          ],
          "name": "stdout"
        }
      ]
    },
    {
      "cell_type": "markdown",
      "metadata": {
        "id": "0Mb7QO0hGSNc"
      },
      "source": [
        "### Task 3"
      ]
    },
    {
      "cell_type": "markdown",
      "metadata": {
        "id": "pOireQPfGSNe"
      },
      "source": [
        "Code the following vector operation and solve them using the given vector values"
      ]
    },
    {
      "cell_type": "markdown",
      "metadata": {
        "id": "BlW75TuRGSNf"
      },
      "source": [
        "$$A = \\begin{bmatrix}-0.4\\\\0.2\\\\-0.6\\end{bmatrix}, B = \\begin{bmatrix}-0.2\\\\0.2\\\\1\\end{bmatrix}, C = \\begin{bmatrix}0.2\\\\-0.1\\\\-0.5\\end{bmatrix}$$"
      ]
    },
    {
      "cell_type": "markdown",
      "metadata": {
        "id": "Cb57tLwrGSNh"
      },
      "source": [
        "Create a program flowchart for your algorithm and explain it in your methodology. In your results, compare your answer to the expected output, visualize, and explain the resulting vector using a 3D plot."
      ]
    },
    {
      "cell_type": "code",
      "metadata": {
        "id": "nDI9T3MSGSNi"
      },
      "source": [
        "#Given vectors\n",
        "A = np.array([-0.4,0.3,-0.6])\n",
        "B = np.array([-0.2,0.2,1])\n",
        "C = np.array([0.2,0.1,-0.5])"
      ],
      "execution_count": 19,
      "outputs": []
    },
    {
      "cell_type": "code",
      "metadata": {
        "id": "9UpfFCsUGSNp",
        "outputId": "7e60c533-b499-482f-ba85-1ddc222bf667",
        "colab": {
          "base_uri": "https://localhost:8080/",
          "height": 34
        }
      },
      "source": [
        "A@A + B@B + C@C"
      ],
      "execution_count": 24,
      "outputs": [
        {
          "output_type": "execute_result",
          "data": {
            "text/plain": [
              "1.99"
            ]
          },
          "metadata": {
            "tags": []
          },
          "execution_count": 24
        }
      ]
    },
    {
      "cell_type": "code",
      "metadata": {
        "id": "fBl54xMcGSNx",
        "outputId": "0cfe2a91-cc8c-4b01-e622-ba982d8893f4",
        "colab": {
          "base_uri": "https://localhost:8080/",
          "height": 34
        }
      },
      "source": [
        "A*(B+A*B)/C"
      ],
      "execution_count": 25,
      "outputs": [
        {
          "output_type": "execute_result",
          "data": {
            "text/plain": [
              "array([0.24, 0.78, 0.48])"
            ]
          },
          "metadata": {
            "tags": []
          },
          "execution_count": 25
        }
      ]
    },
    {
      "cell_type": "code",
      "metadata": {
        "id": "x3ml2c-pGSN4",
        "outputId": "93efe196-2324-4cda-9626-74a1ef5ab2cc",
        "colab": {
          "base_uri": "https://localhost:8080/",
          "height": 34
        }
      },
      "source": [
        "np.linalg.norm(A+B+C)"
      ],
      "execution_count": 26,
      "outputs": [
        {
          "output_type": "execute_result",
          "data": {
            "text/plain": [
              "0.7280109889280518"
            ]
          },
          "metadata": {
            "tags": []
          },
          "execution_count": 26
        }
      ]
    },
    {
      "cell_type": "code",
      "metadata": {
        "id": "XSTSJfj5GSOA",
        "outputId": "079350e2-549a-4edc-e6d0-571c2789da0d",
        "colab": {
          "base_uri": "https://localhost:8080/",
          "height": 34
        }
      },
      "source": [
        "result = (A@A + B@B + C@C) * (A*(B+A*B)/C) *(np.linalg.norm(A+B+C))\n",
        "print(result)"
      ],
      "execution_count": 27,
      "outputs": [
        {
          "output_type": "stream",
          "text": [
            "[0.34769805 1.13001866 0.6953961 ]\n"
          ],
          "name": "stdout"
        }
      ]
    },
    {
      "cell_type": "code",
      "metadata": {
        "id": "CLQ3GUPKGSOG",
        "outputId": "e3a8448f-e508-4923-b5aa-f8def58d42fe",
        "colab": {
          "base_uri": "https://localhost:8080/",
          "height": 248
        }
      },
      "source": [
        "fig = plt.figure()\n",
        "ax = fig.gca(projection='3d')\n",
        "ax.set_xlim([0, 1.2])\n",
        "ax.set_ylim([0, 1.2])\n",
        "ax.set_zlim([0, 1.2])\n",
        "ax.quiver(0, 0, 0, result[0], result[1], result[2], colors='coral', arrow_length_ratio=0.05,linestyle = '--')\n",
        "plt.title(\"3 Dimensional Plot \")\n",
        "plt.show()"
      ],
      "execution_count": 28,
      "outputs": [
        {
          "output_type": "display_data",
          "data": {
            "image/png": "[encoded data removed]",
            "text/plain": [
              "<Figure size 432x288 with 1 Axes>"
            ]
          },
          "metadata": {
            "tags": [],
            "needs_background": "light"
          }
        }
      ]
    }
  ]
}