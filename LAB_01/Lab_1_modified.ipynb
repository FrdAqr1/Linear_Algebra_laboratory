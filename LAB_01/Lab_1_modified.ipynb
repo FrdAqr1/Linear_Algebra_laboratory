{
 "cells": [
  {
   "cell_type": "markdown",
   "metadata": {},
   "source": [
    "# Linear Algebra (CpE210A)"
   ]
  },
  {
   "cell_type": "markdown",
   "metadata": {},
   "source": [
    "## Laboratory 1: Getting acquainted with Python"
   ]
  },
  {
   "cell_type": "markdown",
   "metadata": {},
   "source": [
    "Coded and submitted by:"
   ]
  },
  {
   "cell_type": "markdown",
   "metadata": {},
   "source": [
    "Aquiro, Freddielyn E."
   ]
  },
  {
   "cell_type": "markdown",
   "metadata": {},
   "source": [
    "58010"
   ]
  },
  {
   "cell_type": "markdown",
   "metadata": {},
   "source": [
    "### Lab Exercises:"
   ]
  },
  {
   "cell_type": "code",
   "execution_count": 2,
   "metadata": {},
   "outputs": [
    {
     "name": "stdout",
     "output_type": "stream",
     "text": [
      "Charmander at levels 15\n",
      "Pidgey at levels 11\n",
      "Sandshrew at levels 18\n",
      "Rattata at levels 5\n",
      "Abra at levels 14\n"
     ]
    }
   ],
   "source": [
    "party = ['Charmander', 'Pidgey', 'Sandshrew', 'Rattata', 'Abra']\n",
    "levels = [15,11,18,5,14]\n",
    "print(party[0], 'at levels', levels[0]) # I use slicing function to split the lists and calling the needed index from each lists.\n",
    "print(party[1], 'at levels', levels[1])\n",
    "print(party[2], 'at levels', levels[2])\n",
    "print(party[3], 'at levels', levels[3])\n",
    "print(party[4], 'at levels', levels[4])"
   ]
  },
  {
   "cell_type": "code",
   "execution_count": 3,
   "metadata": {},
   "outputs": [
    {
     "name": "stdout",
     "output_type": "stream",
     "text": [
      "list of low level pokemon  : ['Dialga', 'Regigigas', 'Onix']\n"
     ]
    }
   ],
   "source": [
    "reserves = [('Onix',10),\n",
    "    ('Slowpoke',18),\n",
    "    ('Dialga', 2),\n",
    "    ('Magikarp', 32),\n",
    "    ('Feebas', 22),\n",
    "    ('Swablu', 19),\n",
    "    ('Regigigas', 3),\n",
    "    ('Unown', 50)\n",
    "]\n",
    "reserves.sort(key = lambda x:x[1])\n",
    "lst = []\n",
    "for i in range(1):\n",
    "   lst.append((reserves[i:i+3]))\n",
    "res = [lst[0]for lst in reserves]\n",
    "print (\"list of low level pokemon  : \" + str(res[i:i+3]))   "
   ]
  },
  {
   "cell_type": "code",
   "execution_count": 8,
   "metadata": {},
   "outputs": [
    {
     "name": "stdout",
     "output_type": "stream",
     "text": [
      "Parties from lowest levels: \n",
      "['Charmander', 'Pidgey', 'Sandshrew', 'Rattata', 'Abra', 'Dialga']\n",
      "['Charmander', 'Pidgey', 'Sandshrew', 'Rattata', 'Abra', 'Regigigas']\n",
      "['Charmander', 'Pidgey', 'Sandshrew', 'Rattata', 'Abra', 'Onix']\n"
     ]
    }
   ],
   "source": [
    "party = ['Charmander', 'Pidgey', 'Sandshrew', 'Rattata', 'Abra']\n",
    "candidates = [  ('Onix',10),\n",
    "    ('Slowpoke',18),\n",
    "    ('Dialga', 2),\n",
    "    ('Magikarp', 32),\n",
    "    ('Feebas', 22),\n",
    "    ('Swablu', 19),\n",
    "    ('Regigigas', 3),\n",
    "    ('Unown', 50)\n",
    "]\n",
    "candidates.sort(key = lambda x:x[1])\n",
    "lst = []\n",
    "for i in range(1):\n",
    "   lst.append((candidates[i:i+3]))\n",
    "res = [lst[0]for lst in candidates]\n",
    "def create_party(party,candidates):\n",
    "    suggested_parties =party\n",
    "    suggested_parties.append(res[0])\n",
    "    print(\"Parties from lowest levels: \")\n",
    "    print(suggested_parties)\n",
    "    suggested_parties.pop()\n",
    "    suggested_parties.append(res[1])\n",
    "    print(suggested_parties)\n",
    "    suggested_parties.pop()\n",
    "    suggested_parties.append(res[2])\n",
    "    return suggested_parties\n",
    "print(create_party(party,candidates))"
   ]
  },
  {
   "cell_type": "markdown",
   "metadata": {},
   "source": [
    "## Discussion: "
   ]
  },
  {
   "cell_type": "markdown",
   "metadata": {},
   "source": [
    "#### For your observations section, kindly discuss your code implementation per graded cell"
   ]
  },
  {
   "cell_type": "markdown",
   "metadata": {},
   "source": [
    "##### Kindly answer these questions on the conclusion section of your laboratory report"
   ]
  },
  {
   "cell_type": "markdown",
   "metadata": {},
   "source": [
    "1. In your perspective, what is the difference between Python and C++ or other languages you have used before?"
   ]
  },
  {
   "cell_type": "markdown",
   "metadata": {},
   "source": [
    "   Python is specific, precise, complex and no need to assigned variables before using. While C#, can be use by begineers, practicing your programming skills and good in visualization in developing simple game."
   ]
  },
  {
   "cell_type": "markdown",
   "metadata": {},
   "source": [
    "2. Enumerate and briefly discuss the functions you have used in the laboratory exercise, please cite their usage using their respective documentations."
   ]
  },
  {
   "cell_type": "markdown",
   "metadata": {},
   "source": [
    "cell 1, I used slicing the index to print the party list and levels.\n",
    "cell 2, I used append, sort, key = lambda, and for loop in printing the three low level pokemons.\n",
    "sort is similiar to sorted function to arrange the values from the list into acsending or descending order, it doesn't return to its value.\n",
    "append is a similiar to insert or add function. I used this append function to insert a new list of pokemons.\n",
    "for loop is a function in python used to iterate over a sequence from list, tuples, collections or string. I used for loop range to countone by one until the last number from the result of list. \n",
    "cell 3 , I used def meaning defining a function and its function name together with the paramaters, to set names or values. \n",
    "I used return data types to return is values when a function is called. Then I used pop() function to remove the current initiated values from the \"res list\" to call the index one by one until its last index."
   ]
  },
  {
   "cell_type": "markdown",
   "metadata": {},
   "source": [
    "3. In your perspective, what is the advantages and disadvantages of using Python and Jupyter Notebooks?"
   ]
  },
  {
   "cell_type": "markdown",
   "metadata": {},
   "source": [
    "   I think the advantage in using Jupyter notebooks is you can compile your code easily and it is convenient, you can modify the cell if you want to change something in your code, it is a user-friendly application.. While in python most of the companies are using python to their businesses and its constantly updating. Also it helps me to improve my critical thinking skills because this type of language is complex. Furthermore, the disadvantage in using jupyter notes is not that secured in my insights and in python sometimes is slow to run codes and sometimes it crashes."
   ]
  }
 ],
 "metadata": {
  "kernelspec": {
   "display_name": "Python 3",
   "language": "python",
   "name": "python3"
  },
  "language_info": {
   "codemirror_mode": {
    "name": "ipython",
    "version": 3
   },
   "file_extension": ".py",
   "mimetype": "text/x-python",
   "name": "python",
   "nbconvert_exporter": "python",
   "pygments_lexer": "ipython3",
   "version": "3.8.3"
  }
 },
 "nbformat": 4,
 "nbformat_minor": 4
}
